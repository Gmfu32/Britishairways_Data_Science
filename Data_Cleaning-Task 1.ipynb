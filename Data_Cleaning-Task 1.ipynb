{
 "cells": [
  {
   "cell_type": "markdown",
   "id": "ff2b5dda-d7a3-4eca-a815-3a3369cd1f64",
   "metadata": {},
   "source": [
    "## Data Cleaning"
   ]
  },
  {
   "cell_type": "code",
   "execution_count": 18,
   "id": "9ce95989-e2fb-4472-b8d5-31276c5d7201",
   "metadata": {
    "scrolled": true
   },
   "outputs": [],
   "source": [
    "# importing libraries\n",
    "import matplotlib.pyplot as plt\n",
    "import seaborn as sns\n",
    "import re\n",
    "import os\n",
    "import numpy as np\n",
    "import string\n",
    "import pandas as pd"
   ]
  },
  {
   "cell_type": "code",
   "execution_count": 3,
   "id": "246bdb8b-6641-48ac-bde0-29f086919e09",
   "metadata": {},
   "outputs": [],
   "source": [
    "# loading the scraped data\n",
    "df = pd.read_csv(r\"C:\\BritishAirways_DataScience\\Data\\Web_Scraping.csv\", quotechar='\"', encoding=\"utf-8\", engine=\"python\")\n"
   ]
  },
  {
   "cell_type": "code",
   "execution_count": 4,
   "id": "af969b9a-91a5-406e-bee3-6af174f1ab26",
   "metadata": {},
   "outputs": [],
   "source": [
    "# creating new cols.verified and raw_review (without the verified status) \n",
    "df['Verified'] = df['Review'].str.extract(r'^(✅ Trip Verified|Not Verified)')\n",
    "\n",
    "df['Raw_Review'] = df['Review'].str.replace(r'^(✅ Trip Verified|Not Verified)\\s*\\|\\s*', '', regex=True)\n"
   ]
  },
  {
   "cell_type": "code",
   "execution_count": 5,
   "id": "4b520711-5e29-4132-b7ad-77b442352960",
   "metadata": {},
   "outputs": [
    {
     "data": {
      "text/html": [
       "<div>\n",
       "<style scoped>\n",
       "    .dataframe tbody tr th:only-of-type {\n",
       "        vertical-align: middle;\n",
       "    }\n",
       "\n",
       "    .dataframe tbody tr th {\n",
       "        vertical-align: top;\n",
       "    }\n",
       "\n",
       "    .dataframe thead th {\n",
       "        text-align: right;\n",
       "    }\n",
       "</style>\n",
       "<table border=\"1\" class=\"dataframe\">\n",
       "  <thead>\n",
       "    <tr style=\"text-align: right;\">\n",
       "      <th></th>\n",
       "      <th>Review</th>\n",
       "      <th>Date</th>\n",
       "      <th>Country</th>\n",
       "      <th>Rating</th>\n",
       "      <th>Verified</th>\n",
       "      <th>Raw_Review</th>\n",
       "    </tr>\n",
       "  </thead>\n",
       "  <tbody>\n",
       "    <tr>\n",
       "      <th>0</th>\n",
       "      <td>✅ Trip Verified |   Check-in was slow with onl...</td>\n",
       "      <td>20th May 2025</td>\n",
       "      <td>Australia</td>\n",
       "      <td>5/10 rating</td>\n",
       "      <td>✅ Trip Verified</td>\n",
       "      <td>Check-in was slow with only one staff member c...</td>\n",
       "    </tr>\n",
       "    <tr>\n",
       "      <th>1</th>\n",
       "      <td>Not Verified |  Check in was smooth enough. Bo...</td>\n",
       "      <td>18th May 2025</td>\n",
       "      <td>United Kingdom</td>\n",
       "      <td>6/10 rating</td>\n",
       "      <td>Not Verified</td>\n",
       "      <td>Check in was smooth enough. Boarding was chaot...</td>\n",
       "    </tr>\n",
       "    <tr>\n",
       "      <th>2</th>\n",
       "      <td>✅ Trip Verified | Although transferring to thi...</td>\n",
       "      <td>15th May 2025</td>\n",
       "      <td>United States</td>\n",
       "      <td>4/10 rating</td>\n",
       "      <td>✅ Trip Verified</td>\n",
       "      <td>Although transferring to this flight through H...</td>\n",
       "    </tr>\n",
       "    <tr>\n",
       "      <th>3</th>\n",
       "      <td>✅ Trip Verified |   We are extremely grateful ...</td>\n",
       "      <td>8th May 2025</td>\n",
       "      <td>Switzerland</td>\n",
       "      <td>8/10 rating</td>\n",
       "      <td>✅ Trip Verified</td>\n",
       "      <td>We are extremely grateful to the crew of fligh...</td>\n",
       "    </tr>\n",
       "    <tr>\n",
       "      <th>4</th>\n",
       "      <td>✅ Trip Verified |   I had an appalling experie...</td>\n",
       "      <td>29th April 2025</td>\n",
       "      <td>South Africa</td>\n",
       "      <td>10/10 rating</td>\n",
       "      <td>✅ Trip Verified</td>\n",
       "      <td>I had an appalling experience with British Air...</td>\n",
       "    </tr>\n",
       "  </tbody>\n",
       "</table>\n",
       "</div>"
      ],
      "text/plain": [
       "                                              Review             Date  \\\n",
       "0  ✅ Trip Verified |   Check-in was slow with onl...    20th May 2025   \n",
       "1  Not Verified |  Check in was smooth enough. Bo...    18th May 2025   \n",
       "2  ✅ Trip Verified | Although transferring to thi...    15th May 2025   \n",
       "3  ✅ Trip Verified |   We are extremely grateful ...     8th May 2025   \n",
       "4  ✅ Trip Verified |   I had an appalling experie...  29th April 2025   \n",
       "\n",
       "          Country        Rating         Verified  \\\n",
       "0       Australia   5/10 rating  ✅ Trip Verified   \n",
       "1  United Kingdom   6/10 rating     Not Verified   \n",
       "2   United States   4/10 rating  ✅ Trip Verified   \n",
       "3     Switzerland   8/10 rating  ✅ Trip Verified   \n",
       "4    South Africa  10/10 rating  ✅ Trip Verified   \n",
       "\n",
       "                                          Raw_Review  \n",
       "0  Check-in was slow with only one staff member c...  \n",
       "1  Check in was smooth enough. Boarding was chaot...  \n",
       "2  Although transferring to this flight through H...  \n",
       "3  We are extremely grateful to the crew of fligh...  \n",
       "4  I had an appalling experience with British Air...  "
      ]
     },
     "execution_count": 5,
     "metadata": {},
     "output_type": "execute_result"
    }
   ],
   "source": [
    "df.head()"
   ]
  },
  {
   "cell_type": "code",
   "execution_count": 6,
   "id": "8c96a328-6846-4efa-94d0-da11157855b8",
   "metadata": {},
   "outputs": [
    {
     "data": {
      "text/plain": [
       "Review        object\n",
       "Date          object\n",
       "Country       object\n",
       "Rating        object\n",
       "Verified      object\n",
       "Raw_Review    object\n",
       "dtype: object"
      ]
     },
     "execution_count": 6,
     "metadata": {},
     "output_type": "execute_result"
    }
   ],
   "source": [
    "# exploring the cols data type\n",
    "df.dtypes"
   ]
  },
  {
   "cell_type": "code",
   "execution_count": 7,
   "id": "f5b71b51-ab5a-4a26-8225-34b48cad0a38",
   "metadata": {},
   "outputs": [],
   "source": [
    "# updating the Date col formatting\n",
    "df['Date'] = df['Date'].str.replace(r'(\\d{1,2})(st|nd|rd|th)', r'\\1', regex=True)\n"
   ]
  },
  {
   "cell_type": "code",
   "execution_count": 9,
   "id": "a059e540-5b9d-4ced-b065-5c2bdc7b3021",
   "metadata": {},
   "outputs": [
    {
     "data": {
      "text/plain": [
       "0      20 May 2025\n",
       "1      18 May 2025\n",
       "2      15 May 2025\n",
       "3       8 May 2025\n",
       "4    29 April 2025\n",
       "Name: Date, dtype: object"
      ]
     },
     "execution_count": 9,
     "metadata": {},
     "output_type": "execute_result"
    }
   ],
   "source": [
    "df.Date.head()\n"
   ]
  },
  {
   "cell_type": "code",
   "execution_count": 10,
   "id": "a0741976-cdde-4607-9213-26cd0312958d",
   "metadata": {},
   "outputs": [
    {
     "data": {
      "text/plain": [
       "Review  Date   Country  Rating  Verified  Raw_Review\n",
       "False   False  False    False   True      False         1878\n",
       "                                False     False         1621\n",
       "               True     False   True      False            1\n",
       "Name: count, dtype: int64"
      ]
     },
     "execution_count": 10,
     "metadata": {},
     "output_type": "execute_result"
    }
   ],
   "source": [
    "df.isnull().value_counts()\n"
   ]
  },
  {
   "cell_type": "code",
   "execution_count": 11,
   "id": "c3129766-bbd7-4de0-824f-a888fa0f272e",
   "metadata": {},
   "outputs": [
    {
     "name": "stdout",
     "output_type": "stream",
     "text": [
      "['5/10 rating' '6/10 rating' '4/10 rating' '8/10 rating' '10/10 rating'\n",
      " '3/10 rating' '1/10 rating' '7/10 rating' '9/10 rating' '2/10 rating'\n",
      " 'na rating']\n"
     ]
    }
   ],
   "source": [
    "print(df['Rating'].unique())\n"
   ]
  },
  {
   "cell_type": "code",
   "execution_count": 14,
   "id": "e00d6c25-33ac-46b4-86d8-b63b3e4a9497",
   "metadata": {},
   "outputs": [],
   "source": [
    "# replacing 'nan' strings with actual np.nan\n",
    "df['Rating'] = df['Rating'].replace('nan', np.nan)"
   ]
  },
  {
   "cell_type": "code",
   "execution_count": 15,
   "id": "6513de24-241c-49a7-8168-1e8ac5350b5f",
   "metadata": {},
   "outputs": [
    {
     "data": {
      "text/html": [
       "<div>\n",
       "<style scoped>\n",
       "    .dataframe tbody tr th:only-of-type {\n",
       "        vertical-align: middle;\n",
       "    }\n",
       "\n",
       "    .dataframe tbody tr th {\n",
       "        vertical-align: top;\n",
       "    }\n",
       "\n",
       "    .dataframe thead th {\n",
       "        text-align: right;\n",
       "    }\n",
       "</style>\n",
       "<table border=\"1\" class=\"dataframe\">\n",
       "  <thead>\n",
       "    <tr style=\"text-align: right;\">\n",
       "      <th></th>\n",
       "      <th>Review</th>\n",
       "      <th>Date</th>\n",
       "      <th>Country</th>\n",
       "      <th>Rating</th>\n",
       "      <th>Verified</th>\n",
       "      <th>Raw_Review</th>\n",
       "    </tr>\n",
       "  </thead>\n",
       "  <tbody>\n",
       "    <tr>\n",
       "      <th>0</th>\n",
       "      <td>✅ Trip Verified |   Check-in was slow with onl...</td>\n",
       "      <td>20 May 2025</td>\n",
       "      <td>Australia</td>\n",
       "      <td>5/10 rating</td>\n",
       "      <td>✅ Trip Verified</td>\n",
       "      <td>Check-in was slow with only one staff member c...</td>\n",
       "    </tr>\n",
       "    <tr>\n",
       "      <th>1</th>\n",
       "      <td>Not Verified |  Check in was smooth enough. Bo...</td>\n",
       "      <td>18 May 2025</td>\n",
       "      <td>United Kingdom</td>\n",
       "      <td>6/10 rating</td>\n",
       "      <td>Not Verified</td>\n",
       "      <td>Check in was smooth enough. Boarding was chaot...</td>\n",
       "    </tr>\n",
       "    <tr>\n",
       "      <th>2</th>\n",
       "      <td>✅ Trip Verified | Although transferring to thi...</td>\n",
       "      <td>15 May 2025</td>\n",
       "      <td>United States</td>\n",
       "      <td>4/10 rating</td>\n",
       "      <td>✅ Trip Verified</td>\n",
       "      <td>Although transferring to this flight through H...</td>\n",
       "    </tr>\n",
       "    <tr>\n",
       "      <th>3</th>\n",
       "      <td>✅ Trip Verified |   We are extremely grateful ...</td>\n",
       "      <td>8 May 2025</td>\n",
       "      <td>Switzerland</td>\n",
       "      <td>8/10 rating</td>\n",
       "      <td>✅ Trip Verified</td>\n",
       "      <td>We are extremely grateful to the crew of fligh...</td>\n",
       "    </tr>\n",
       "    <tr>\n",
       "      <th>4</th>\n",
       "      <td>✅ Trip Verified |   I had an appalling experie...</td>\n",
       "      <td>29 April 2025</td>\n",
       "      <td>South Africa</td>\n",
       "      <td>10/10 rating</td>\n",
       "      <td>✅ Trip Verified</td>\n",
       "      <td>I had an appalling experience with British Air...</td>\n",
       "    </tr>\n",
       "    <tr>\n",
       "      <th>...</th>\n",
       "      <td>...</td>\n",
       "      <td>...</td>\n",
       "      <td>...</td>\n",
       "      <td>...</td>\n",
       "      <td>...</td>\n",
       "      <td>...</td>\n",
       "    </tr>\n",
       "    <tr>\n",
       "      <th>3495</th>\n",
       "      <td>LAX-LHR-LAX on the A380.The first thing I noti...</td>\n",
       "      <td>10 December 2014</td>\n",
       "      <td>United States</td>\n",
       "      <td>5/10 rating</td>\n",
       "      <td>NaN</td>\n",
       "      <td>LAX-LHR-LAX on the A380.The first thing I noti...</td>\n",
       "    </tr>\n",
       "    <tr>\n",
       "      <th>3496</th>\n",
       "      <td>Phoenix to London - outbound a wonderful and e...</td>\n",
       "      <td>10 December 2014</td>\n",
       "      <td>United States</td>\n",
       "      <td>3/10 rating</td>\n",
       "      <td>NaN</td>\n",
       "      <td>Phoenix to London - outbound a wonderful and e...</td>\n",
       "    </tr>\n",
       "    <tr>\n",
       "      <th>3497</th>\n",
       "      <td>BA216 from Washington to London in World Trave...</td>\n",
       "      <td>4 December 2014</td>\n",
       "      <td>United States</td>\n",
       "      <td>7/10 rating</td>\n",
       "      <td>NaN</td>\n",
       "      <td>BA216 from Washington to London in World Trave...</td>\n",
       "    </tr>\n",
       "    <tr>\n",
       "      <th>3498</th>\n",
       "      <td>LHR-BGO on A319. Flight on time and only half ...</td>\n",
       "      <td>4 December 2014</td>\n",
       "      <td>United Kingdom</td>\n",
       "      <td>1/10 rating</td>\n",
       "      <td>NaN</td>\n",
       "      <td>LHR-BGO on A319. Flight on time and only half ...</td>\n",
       "    </tr>\n",
       "    <tr>\n",
       "      <th>3499</th>\n",
       "      <td>LHR-SFO-LHR. Out in economy and return in econ...</td>\n",
       "      <td>4 December 2014</td>\n",
       "      <td>United Kingdom</td>\n",
       "      <td>7/10 rating</td>\n",
       "      <td>NaN</td>\n",
       "      <td>LHR-SFO-LHR. Out in economy and return in econ...</td>\n",
       "    </tr>\n",
       "  </tbody>\n",
       "</table>\n",
       "<p>3500 rows × 6 columns</p>\n",
       "</div>"
      ],
      "text/plain": [
       "                                                 Review              Date  \\\n",
       "0     ✅ Trip Verified |   Check-in was slow with onl...       20 May 2025   \n",
       "1     Not Verified |  Check in was smooth enough. Bo...       18 May 2025   \n",
       "2     ✅ Trip Verified | Although transferring to thi...       15 May 2025   \n",
       "3     ✅ Trip Verified |   We are extremely grateful ...        8 May 2025   \n",
       "4     ✅ Trip Verified |   I had an appalling experie...     29 April 2025   \n",
       "...                                                 ...               ...   \n",
       "3495  LAX-LHR-LAX on the A380.The first thing I noti...  10 December 2014   \n",
       "3496  Phoenix to London - outbound a wonderful and e...  10 December 2014   \n",
       "3497  BA216 from Washington to London in World Trave...   4 December 2014   \n",
       "3498  LHR-BGO on A319. Flight on time and only half ...   4 December 2014   \n",
       "3499  LHR-SFO-LHR. Out in economy and return in econ...   4 December 2014   \n",
       "\n",
       "             Country        Rating         Verified  \\\n",
       "0          Australia   5/10 rating  ✅ Trip Verified   \n",
       "1     United Kingdom   6/10 rating     Not Verified   \n",
       "2      United States   4/10 rating  ✅ Trip Verified   \n",
       "3        Switzerland   8/10 rating  ✅ Trip Verified   \n",
       "4       South Africa  10/10 rating  ✅ Trip Verified   \n",
       "...              ...           ...              ...   \n",
       "3495   United States   5/10 rating              NaN   \n",
       "3496   United States   3/10 rating              NaN   \n",
       "3497   United States   7/10 rating              NaN   \n",
       "3498  United Kingdom   1/10 rating              NaN   \n",
       "3499  United Kingdom   7/10 rating              NaN   \n",
       "\n",
       "                                             Raw_Review  \n",
       "0     Check-in was slow with only one staff member c...  \n",
       "1     Check in was smooth enough. Boarding was chaot...  \n",
       "2     Although transferring to this flight through H...  \n",
       "3     We are extremely grateful to the crew of fligh...  \n",
       "4     I had an appalling experience with British Air...  \n",
       "...                                                 ...  \n",
       "3495  LAX-LHR-LAX on the A380.The first thing I noti...  \n",
       "3496  Phoenix to London - outbound a wonderful and e...  \n",
       "3497  BA216 from Washington to London in World Trave...  \n",
       "3498  LHR-BGO on A319. Flight on time and only half ...  \n",
       "3499  LHR-SFO-LHR. Out in economy and return in econ...  \n",
       "\n",
       "[3500 rows x 6 columns]"
      ]
     },
     "execution_count": 15,
     "metadata": {},
     "output_type": "execute_result"
    }
   ],
   "source": [
    "df"
   ]
  },
  {
   "cell_type": "code",
   "execution_count": 16,
   "id": "742472f1-a444-4de3-9ddb-5445b1bc2d0e",
   "metadata": {},
   "outputs": [
    {
     "data": {
      "text/plain": [
       "Review           0\n",
       "Date             0\n",
       "Country          1\n",
       "Rating           0\n",
       "Verified      1879\n",
       "Raw_Review       0\n",
       "dtype: int64"
      ]
     },
     "execution_count": 16,
     "metadata": {},
     "output_type": "execute_result"
    }
   ],
   "source": [
    "df.isnull().sum()"
   ]
  },
  {
   "cell_type": "code",
   "execution_count": 17,
   "id": "e15ab897-aa5f-4e6d-afcc-b9a5bba24c02",
   "metadata": {},
   "outputs": [],
   "source": [
    "df = df.dropna(subset=['Country'])"
   ]
  },
  {
   "cell_type": "code",
   "execution_count": 129,
   "id": "0d9aee81-728c-430f-9c99-c9e8564e0df6",
   "metadata": {},
   "outputs": [],
   "source": [
    "# dropping and replacing the null values\n",
    "df = df.dropna(subset=['Country'])  # drop only the single missing Country\n",
    "df['Verified'] = df['Verified'].fillna('❌ Not Verified')  # replace Verified nulls"
   ]
  },
  {
   "cell_type": "code",
   "execution_count": 130,
   "id": "f10f28fc-2b8a-4cd4-bea6-5afeaf34eed9",
   "metadata": {},
   "outputs": [
    {
     "data": {
      "text/html": [
       "<div>\n",
       "<style scoped>\n",
       "    .dataframe tbody tr th:only-of-type {\n",
       "        vertical-align: middle;\n",
       "    }\n",
       "\n",
       "    .dataframe tbody tr th {\n",
       "        vertical-align: top;\n",
       "    }\n",
       "\n",
       "    .dataframe thead th {\n",
       "        text-align: right;\n",
       "    }\n",
       "</style>\n",
       "<table border=\"1\" class=\"dataframe\">\n",
       "  <thead>\n",
       "    <tr style=\"text-align: right;\">\n",
       "      <th></th>\n",
       "      <th>Review</th>\n",
       "      <th>Date</th>\n",
       "      <th>Country</th>\n",
       "      <th>Rating</th>\n",
       "      <th>Verified</th>\n",
       "      <th>Raw_Review</th>\n",
       "    </tr>\n",
       "  </thead>\n",
       "  <tbody>\n",
       "    <tr>\n",
       "      <th>0</th>\n",
       "      <td>✅ Trip Verified | Although transferring to this flight through Heathrow from Budapest took almost an hour, the flight crew was welcoming and friendly as we boarded at the last minute. I had tried to reserve a vegetarian meal online the day before the flight but couldn't, and asked Sarah, the head flight attendant, if they might be able to provide one. She not only found a delicious meal from Premium, Economy, but was especially caring and helpful throughout the flight. The flight attendants also offered water and juice several times during the flight. I was also impressed with the wide range of entertainment offerings, which included some first-rate films.</td>\n",
       "      <td>15 May 2025</td>\n",
       "      <td>United States</td>\n",
       "      <td>5/10 rating</td>\n",
       "      <td>✅ Trip Verified</td>\n",
       "      <td>Although transferring to this flight through Heathrow from Budapest took almost an hour, the flight crew was welcoming and friendly as we boarded at the last minute. I had tried to reserve a vegetarian meal online the day before the flight but couldn't, and asked Sarah, the head flight attendant, if they might be able to provide one. She not only found a delicious meal from Premium, Economy, but was especially caring and helpful throughout the flight. The flight attendants also offered water and juice several times during the flight. I was also impressed with the wide range of entertainment offerings, which included some first-rate films.</td>\n",
       "    </tr>\n",
       "    <tr>\n",
       "      <th>1</th>\n",
       "      <td>✅ Trip Verified |   We are extremely grateful to the crew of flight BA0058 from Cape Town to Heathrow. They brought us home with such a high level of professionalism, flexibility, and empathy.  Thank you so much.</td>\n",
       "      <td>8 May 2025</td>\n",
       "      <td>Switzerland</td>\n",
       "      <td>8/10 rating</td>\n",
       "      <td>✅ Trip Verified</td>\n",
       "      <td>We are extremely grateful to the crew of flight BA0058 from Cape Town to Heathrow. They brought us home with such a high level of professionalism, flexibility, and empathy.  Thank you so much.</td>\n",
       "    </tr>\n",
       "    <tr>\n",
       "      <th>2</th>\n",
       "      <td>✅ Trip Verified |   I had an appalling experience with British Airways. It started when I tried to check in online but couldn’t change my seat due to repeated website errors. I arrived at the airport 4 hours early to sort it out, but the staff at the check-in counter refused to help me—brushing me off before I could even say which flight I was on, simply saying all flights were full. Incredibly rude and unprofessional. The BA lounge was overcrowded, uncomfortable, and poorly equipped—wooden utensils only and very limited seating. Shortly before boarding, I was struck with excruciating abdominal pain. Fearing a medical emergency, I asked to be offloaded. Staff at the boarding gate took my boarding pass and luggage tag, asked me to wait, and then left me sitting there in agony for 40 minutes. I eventually asked to leave to go to hospital—staff said it was fine. However, in my distress, I didn’t realise that they had taken my boarding pass with the baggage reference on it. I asked a group of wheelchair porters heading in my direction for help. None assisted me. I collapsed midway and was finally stretchered away by medics and taken to hospital. Thankfully, I received treatment and have now returned home. Since then, I’ve been trying to retrieve my luggage. Every number I’ve tried—online, via the airport, and through customer service—is either unreachable, goes to voicemail, or simply rings out. I have no idea where my bag is, and no one is helping. This is completely unacceptable from an international airline. British Airways has failed at every stage: technical support, in-person service, medical handling, and post-flight care.</td>\n",
       "      <td>29 April 2025</td>\n",
       "      <td>South Africa</td>\n",
       "      <td>10/10 rating</td>\n",
       "      <td>✅ Trip Verified</td>\n",
       "      <td>I had an appalling experience with British Airways. It started when I tried to check in online but couldn’t change my seat due to repeated website errors. I arrived at the airport 4 hours early to sort it out, but the staff at the check-in counter refused to help me—brushing me off before I could even say which flight I was on, simply saying all flights were full. Incredibly rude and unprofessional. The BA lounge was overcrowded, uncomfortable, and poorly equipped—wooden utensils only and very limited seating. Shortly before boarding, I was struck with excruciating abdominal pain. Fearing a medical emergency, I asked to be offloaded. Staff at the boarding gate took my boarding pass and luggage tag, asked me to wait, and then left me sitting there in agony for 40 minutes. I eventually asked to leave to go to hospital—staff said it was fine. However, in my distress, I didn’t realise that they had taken my boarding pass with the baggage reference on it. I asked a group of wheelchair porters heading in my direction for help. None assisted me. I collapsed midway and was finally stretchered away by medics and taken to hospital. Thankfully, I received treatment and have now returned home. Since then, I’ve been trying to retrieve my luggage. Every number I’ve tried—online, via the airport, and through customer service—is either unreachable, goes to voicemail, or simply rings out. I have no idea where my bag is, and no one is helping. This is completely unacceptable from an international airline. British Airways has failed at every stage: technical support, in-person service, medical handling, and post-flight care.</td>\n",
       "    </tr>\n",
       "    <tr>\n",
       "      <th>3</th>\n",
       "      <td>Not Verified |  Good points, the cabin crew, they were helpful, professional and mature, Quantity and quality of food, cleanliness of the aircraft which was spotless Picture of a pub in the forward toilet and the flight was on time. BA's T3 lounge is just not anything special, mediocre at best, food options lacking, its Gatwick &amp; T5 lounges are far more superior. On board usual poor seat pitch, the Club Europe product is inconsistent, no hot towels, menu given however food delivered on a trolley in the economy way, all the courses on one tray. No further bar offerings unless one used the call bell. Parked on remote stand at Krakow. On return Krakow - LHR Queued for twenty minutes at the Club Europe check in desk, the non-BA lounge was basic and at the late departure time of the flight, minimal food choices. On boarding Cramped into a bus and walked up on remote stand. No menus or hot towels, however meal orders taken individually and delivered direct from the Galley, seat uncomfortable, no wi-fi. Had to request tea after meal. Again inconsistency in service. The extra cost of Club Europe is hard to justify, there have been improvements in catering, however the product needs to be elevated to justify the cost.</td>\n",
       "      <td>22 April 2025</td>\n",
       "      <td>United Kingdom</td>\n",
       "      <td>3/10 rating</td>\n",
       "      <td>Not Verified</td>\n",
       "      <td>Good points, the cabin crew, they were helpful, professional and mature, Quantity and quality of food, cleanliness of the aircraft which was spotless Picture of a pub in the forward toilet and the flight was on time. BA's T3 lounge is just not anything special, mediocre at best, food options lacking, its Gatwick &amp; T5 lounges are far more superior. On board usual poor seat pitch, the Club Europe product is inconsistent, no hot towels, menu given however food delivered on a trolley in the economy way, all the courses on one tray. No further bar offerings unless one used the call bell. Parked on remote stand at Krakow. On return Krakow - LHR Queued for twenty minutes at the Club Europe check in desk, the non-BA lounge was basic and at the late departure time of the flight, minimal food choices. On boarding Cramped into a bus and walked up on remote stand. No menus or hot towels, however meal orders taken individually and delivered direct from the Galley, seat uncomfortable, no wi-fi. Had to request tea after meal. Again inconsistency in service. The extra cost of Club Europe is hard to justify, there have been improvements in catering, however the product needs to be elevated to justify the cost.</td>\n",
       "    </tr>\n",
       "    <tr>\n",
       "      <th>4</th>\n",
       "      <td>Not Verified |  It was a decent flight, reasonable comfortable seat and pilot kept us nicely informed about the flight's progress. BA serve biscuits and a small bottle of water for free. This was ok for me but sandwiches had run out from the in-flight cafe to the disappointment of passengers. Inflight wifi is limited and you have to pay to access music or programmes. BA's offering is well below that of Aegean and this level of service is not suitable for easterly destinations such as Larnaca. So I would certainly fly again with BA to Athens but only in the event Aegean has no seats or the fare is cheaper.</td>\n",
       "      <td>22 April 2025</td>\n",
       "      <td>United Kingdom</td>\n",
       "      <td>6/10 rating</td>\n",
       "      <td>Not Verified</td>\n",
       "      <td>It was a decent flight, reasonable comfortable seat and pilot kept us nicely informed about the flight's progress. BA serve biscuits and a small bottle of water for free. This was ok for me but sandwiches had run out from the in-flight cafe to the disappointment of passengers. Inflight wifi is limited and you have to pay to access music or programmes. BA's offering is well below that of Aegean and this level of service is not suitable for easterly destinations such as Larnaca. So I would certainly fly again with BA to Athens but only in the event Aegean has no seats or the fare is cheaper.</td>\n",
       "    </tr>\n",
       "    <tr>\n",
       "      <th>...</th>\n",
       "      <td>...</td>\n",
       "      <td>...</td>\n",
       "      <td>...</td>\n",
       "      <td>...</td>\n",
       "      <td>...</td>\n",
       "      <td>...</td>\n",
       "    </tr>\n",
       "    <tr>\n",
       "      <th>3495</th>\n",
       "      <td>IAH-LHR B747 which was old but sat upstairs and it made it very pleasant. They charged $129 extra to reserve a business class seat in the upper deck. Do not care for the seating of one seat forward and one backwards. The food was terrible and they did not really want to serve any drinks unless they had too. Felt like I was in economy. Nuts were in a bag and breakfast was not much better. Flight attendants not very friendly.</td>\n",
       "      <td>4 December 2014</td>\n",
       "      <td>United States</td>\n",
       "      <td>10/10 rating</td>\n",
       "      <td>❌ Not Verified</td>\n",
       "      <td>IAH-LHR B747 which was old but sat upstairs and it made it very pleasant. They charged $129 extra to reserve a business class seat in the upper deck. Do not care for the seating of one seat forward and one backwards. The food was terrible and they did not really want to serve any drinks unless they had too. Felt like I was in economy. Nuts were in a bag and breakfast was not much better. Flight attendants not very friendly.</td>\n",
       "    </tr>\n",
       "    <tr>\n",
       "      <th>3496</th>\n",
       "      <td>YVR-LHR-AMS. An uneventful journey with BA but their Boeing 747 from Vancouver was a flashback to the 1990's. Dated interior with cold colours old seats that recline practically into your face making the already cramped space even more uncomfortable - you could also occasionally feel the person's knees pushing into the back of your own seat. The in-flight entertainment was equally old with a blurry screen and limited choice of entertainment. The cabin crew were courteous and friendly. Arrival and transfer in BA's Terminal 5 was very smooth and relaxing. The connecting flight to Amsterdam was a modern Airbus A319 with bright and comfortable interior/seating. Unless BA revamp their ageing 747 fleet consider fly with Virgin Air Canada or even Air Transat for the Vancouver-London route.</td>\n",
       "      <td>4 December 2014</td>\n",
       "      <td>Canada</td>\n",
       "      <td>8/10 rating</td>\n",
       "      <td>❌ Not Verified</td>\n",
       "      <td>YVR-LHR-AMS. An uneventful journey with BA but their Boeing 747 from Vancouver was a flashback to the 1990's. Dated interior with cold colours old seats that recline practically into your face making the already cramped space even more uncomfortable - you could also occasionally feel the person's knees pushing into the back of your own seat. The in-flight entertainment was equally old with a blurry screen and limited choice of entertainment. The cabin crew were courteous and friendly. Arrival and transfer in BA's Terminal 5 was very smooth and relaxing. The connecting flight to Amsterdam was a modern Airbus A319 with bright and comfortable interior/seating. Unless BA revamp their ageing 747 fleet consider fly with Virgin Air Canada or even Air Transat for the Vancouver-London route.</td>\n",
       "    </tr>\n",
       "    <tr>\n",
       "      <th>3497</th>\n",
       "      <td>Have just completed four flights with British Airways all in Economy and all long-haul. Two were on the A380 one on the B787 and the fourth on a refurbished B777. So they all had the new seat. I find it comfortable although never seem to get the headrest really right. The seats are narrow and on busy flights your neighbours can be rather close. At 1.83m the leg room and spacing was fine although some seats do have restrictions with the entertainment system. The 380 and 787 are very quiet which makes the toilets sound nosier should you be near them. On the upper deck of the 380 the overhead bin space in the back economy section is woefully inadequate. I'm sure it was never planned for economy seating. Food ok - my special meals came as ordered. Flights on time or early and staff helpful and pleasant. Heathrow T5 can be a problem depending on when you travel and the main section (A) can get very busy as people wait to learn the gate details.</td>\n",
       "      <td>4 December 2014</td>\n",
       "      <td>South Africa</td>\n",
       "      <td>5/10 rating</td>\n",
       "      <td>❌ Not Verified</td>\n",
       "      <td>Have just completed four flights with British Airways all in Economy and all long-haul. Two were on the A380 one on the B787 and the fourth on a refurbished B777. So they all had the new seat. I find it comfortable although never seem to get the headrest really right. The seats are narrow and on busy flights your neighbours can be rather close. At 1.83m the leg room and spacing was fine although some seats do have restrictions with the entertainment system. The 380 and 787 are very quiet which makes the toilets sound nosier should you be near them. On the upper deck of the 380 the overhead bin space in the back economy section is woefully inadequate. I'm sure it was never planned for economy seating. Food ok - my special meals came as ordered. Flights on time or early and staff helpful and pleasant. Heathrow T5 can be a problem depending on when you travel and the main section (A) can get very busy as people wait to learn the gate details.</td>\n",
       "    </tr>\n",
       "    <tr>\n",
       "      <th>3498</th>\n",
       "      <td>British Airways for some reason was incapable of seating me next to my husband during our recent 8 hour flight. We made the reservation many months ago attempted several times to select seats and were told we could not do so in advance but needed to wait until we got to the airport. This was our first time flying with them and every other airline we have ever flown has allowed us to sit together. It is usually assumed that if we are married and making the reservation together at the same time using one credit card and paying a lot for the trip that we actually want to sit next to each other. When we tried to change our seats to be together all representatives said being separated was typical. Which is strange because then you have a plane full of families that have been physically separated for no apparent reason. While it's always fun to meet new strangers we will not be flying with British Airways again.</td>\n",
       "      <td>4 December 2014</td>\n",
       "      <td>United States</td>\n",
       "      <td>9/10 rating</td>\n",
       "      <td>❌ Not Verified</td>\n",
       "      <td>British Airways for some reason was incapable of seating me next to my husband during our recent 8 hour flight. We made the reservation many months ago attempted several times to select seats and were told we could not do so in advance but needed to wait until we got to the airport. This was our first time flying with them and every other airline we have ever flown has allowed us to sit together. It is usually assumed that if we are married and making the reservation together at the same time using one credit card and paying a lot for the trip that we actually want to sit next to each other. When we tried to change our seats to be together all representatives said being separated was typical. Which is strange because then you have a plane full of families that have been physically separated for no apparent reason. While it's always fun to meet new strangers we will not be flying with British Airways again.</td>\n",
       "    </tr>\n",
       "    <tr>\n",
       "      <th>3499</th>\n",
       "      <td>BA216 from Washington to London in World Traveller Plus on BA's new A380 (upper level) - one of the smoothest quietest flights I've experienced in 45 years of flying. Practically everything went off perfectly - less jet noise than on other aircraft decent food great leg-room and seat width a relaxing cabin layout and a top-notch cabin crew (no rating for entertainment since apart from the flight tracker I don't use it) - even the boarding and disembarkation despite being on two levels seemed more orderly than in the past on other aircraft. A success all round.</td>\n",
       "      <td>4 December 2014</td>\n",
       "      <td>United States</td>\n",
       "      <td>5/10 rating</td>\n",
       "      <td>❌ Not Verified</td>\n",
       "      <td>BA216 from Washington to London in World Traveller Plus on BA's new A380 (upper level) - one of the smoothest quietest flights I've experienced in 45 years of flying. Practically everything went off perfectly - less jet noise than on other aircraft decent food great leg-room and seat width a relaxing cabin layout and a top-notch cabin crew (no rating for entertainment since apart from the flight tracker I don't use it) - even the boarding and disembarkation despite being on two levels seemed more orderly than in the past on other aircraft. A success all round.</td>\n",
       "    </tr>\n",
       "  </tbody>\n",
       "</table>\n",
       "<p>3499 rows × 6 columns</p>\n",
       "</div>"
      ],
      "text/plain": [
       "                                                                                                                                                                                                                                                                                                                                                                                                                                                                                                                                                                                                                                                                                                                                                                                                                                                                                                                                                                                                                                                                                                                                                                                                                                                                                                                                                                                                                                                                                                                                                                                                                                                                                                                     Review             Date         Country        Rating         Verified                                                                                                                                                                                                                                                                                                                                                                                                                                                                                                                                                                                                                                                                                                                                                                                                                                                                                                                                                                                                                                                                                                                                                                                                                                                                                                                                                                                                                                                                                                                                                                                                                                                                                         Raw_Review\n",
       "0                                                                                                                                                                                                                                                                                                                                                                                                                                                                                                                                                                                                                                                                                                                                                                                                                                                                                                                                                                                                                                  ✅ Trip Verified | Although transferring to this flight through Heathrow from Budapest took almost an hour, the flight crew was welcoming and friendly as we boarded at the last minute. I had tried to reserve a vegetarian meal online the day before the flight but couldn't, and asked Sarah, the head flight attendant, if they might be able to provide one. She not only found a delicious meal from Premium, Economy, but was especially caring and helpful throughout the flight. The flight attendants also offered water and juice several times during the flight. I was also impressed with the wide range of entertainment offerings, which included some first-rate films.      15 May 2025   United States   5/10 rating  ✅ Trip Verified                                                                                                                                                                                                                                                                                                                                                                                                                                                                                                                                                                                                                                                                                                                                                                                                                                                                                                                                                                                                                             Although transferring to this flight through Heathrow from Budapest took almost an hour, the flight crew was welcoming and friendly as we boarded at the last minute. I had tried to reserve a vegetarian meal online the day before the flight but couldn't, and asked Sarah, the head flight attendant, if they might be able to provide one. She not only found a delicious meal from Premium, Economy, but was especially caring and helpful throughout the flight. The flight attendants also offered water and juice several times during the flight. I was also impressed with the wide range of entertainment offerings, which included some first-rate films.\n",
       "1                                                                                                                                                                                                                                                                                                                                                                                                                                                                                                                                                                                                                                                                                                                                                                                                                                                                                                                                                                                                                                                                                                                                                                                                                                                                                                                                                                                                                                                                                                      ✅ Trip Verified |   We are extremely grateful to the crew of flight BA0058 from Cape Town to Heathrow. They brought us home with such a high level of professionalism, flexibility, and empathy.  Thank you so much.       8 May 2025     Switzerland   8/10 rating  ✅ Trip Verified                                                                                                                                                                                                                                                                                                                                                                                                                                                                                                                                                                                                                                                                                                                                                                                                                                                                                                                                                                                                                                                                                                                                                                                                                                                                                                                                                                                                                                                                                                   We are extremely grateful to the crew of flight BA0058 from Cape Town to Heathrow. They brought us home with such a high level of professionalism, flexibility, and empathy.  Thank you so much.\n",
       "2     ✅ Trip Verified |   I had an appalling experience with British Airways. It started when I tried to check in online but couldn’t change my seat due to repeated website errors. I arrived at the airport 4 hours early to sort it out, but the staff at the check-in counter refused to help me—brushing me off before I could even say which flight I was on, simply saying all flights were full. Incredibly rude and unprofessional. The BA lounge was overcrowded, uncomfortable, and poorly equipped—wooden utensils only and very limited seating. Shortly before boarding, I was struck with excruciating abdominal pain. Fearing a medical emergency, I asked to be offloaded. Staff at the boarding gate took my boarding pass and luggage tag, asked me to wait, and then left me sitting there in agony for 40 minutes. I eventually asked to leave to go to hospital—staff said it was fine. However, in my distress, I didn’t realise that they had taken my boarding pass with the baggage reference on it. I asked a group of wheelchair porters heading in my direction for help. None assisted me. I collapsed midway and was finally stretchered away by medics and taken to hospital. Thankfully, I received treatment and have now returned home. Since then, I’ve been trying to retrieve my luggage. Every number I’ve tried—online, via the airport, and through customer service—is either unreachable, goes to voicemail, or simply rings out. I have no idea where my bag is, and no one is helping. This is completely unacceptable from an international airline. British Airways has failed at every stage: technical support, in-person service, medical handling, and post-flight care.    29 April 2025    South Africa  10/10 rating  ✅ Trip Verified  I had an appalling experience with British Airways. It started when I tried to check in online but couldn’t change my seat due to repeated website errors. I arrived at the airport 4 hours early to sort it out, but the staff at the check-in counter refused to help me—brushing me off before I could even say which flight I was on, simply saying all flights were full. Incredibly rude and unprofessional. The BA lounge was overcrowded, uncomfortable, and poorly equipped—wooden utensils only and very limited seating. Shortly before boarding, I was struck with excruciating abdominal pain. Fearing a medical emergency, I asked to be offloaded. Staff at the boarding gate took my boarding pass and luggage tag, asked me to wait, and then left me sitting there in agony for 40 minutes. I eventually asked to leave to go to hospital—staff said it was fine. However, in my distress, I didn’t realise that they had taken my boarding pass with the baggage reference on it. I asked a group of wheelchair porters heading in my direction for help. None assisted me. I collapsed midway and was finally stretchered away by medics and taken to hospital. Thankfully, I received treatment and have now returned home. Since then, I’ve been trying to retrieve my luggage. Every number I’ve tried—online, via the airport, and through customer service—is either unreachable, goes to voicemail, or simply rings out. I have no idea where my bag is, and no one is helping. This is completely unacceptable from an international airline. British Airways has failed at every stage: technical support, in-person service, medical handling, and post-flight care.\n",
       "3                                                                                                                                                                                                                                                                                                                                                                                                                                              Not Verified |  Good points, the cabin crew, they were helpful, professional and mature, Quantity and quality of food, cleanliness of the aircraft which was spotless Picture of a pub in the forward toilet and the flight was on time. BA's T3 lounge is just not anything special, mediocre at best, food options lacking, its Gatwick & T5 lounges are far more superior. On board usual poor seat pitch, the Club Europe product is inconsistent, no hot towels, menu given however food delivered on a trolley in the economy way, all the courses on one tray. No further bar offerings unless one used the call bell. Parked on remote stand at Krakow. On return Krakow - LHR Queued for twenty minutes at the Club Europe check in desk, the non-BA lounge was basic and at the late departure time of the flight, minimal food choices. On boarding Cramped into a bus and walked up on remote stand. No menus or hot towels, however meal orders taken individually and delivered direct from the Galley, seat uncomfortable, no wi-fi. Had to request tea after meal. Again inconsistency in service. The extra cost of Club Europe is hard to justify, there have been improvements in catering, however the product needs to be elevated to justify the cost.    22 April 2025  United Kingdom   3/10 rating     Not Verified                                                                                                                                                                                                                                                                                                                                                                                                                                       Good points, the cabin crew, they were helpful, professional and mature, Quantity and quality of food, cleanliness of the aircraft which was spotless Picture of a pub in the forward toilet and the flight was on time. BA's T3 lounge is just not anything special, mediocre at best, food options lacking, its Gatwick & T5 lounges are far more superior. On board usual poor seat pitch, the Club Europe product is inconsistent, no hot towels, menu given however food delivered on a trolley in the economy way, all the courses on one tray. No further bar offerings unless one used the call bell. Parked on remote stand at Krakow. On return Krakow - LHR Queued for twenty minutes at the Club Europe check in desk, the non-BA lounge was basic and at the late departure time of the flight, minimal food choices. On boarding Cramped into a bus and walked up on remote stand. No menus or hot towels, however meal orders taken individually and delivered direct from the Galley, seat uncomfortable, no wi-fi. Had to request tea after meal. Again inconsistency in service. The extra cost of Club Europe is hard to justify, there have been improvements in catering, however the product needs to be elevated to justify the cost.\n",
       "4                                                                                                                                                                                                                                                                                                                                                                                                                                                                                                                                                                                                                                                                                                                                                                                                                                                                                                                                                                                                                                                                                      Not Verified |  It was a decent flight, reasonable comfortable seat and pilot kept us nicely informed about the flight's progress. BA serve biscuits and a small bottle of water for free. This was ok for me but sandwiches had run out from the in-flight cafe to the disappointment of passengers. Inflight wifi is limited and you have to pay to access music or programmes. BA's offering is well below that of Aegean and this level of service is not suitable for easterly destinations such as Larnaca. So I would certainly fly again with BA to Athens but only in the event Aegean has no seats or the fare is cheaper.    22 April 2025  United Kingdom   6/10 rating     Not Verified                                                                                                                                                                                                                                                                                                                                                                                                                                                                                                                                                                                                                                                                                                                                                                                                                                                                                                                                                                                                                                                                               It was a decent flight, reasonable comfortable seat and pilot kept us nicely informed about the flight's progress. BA serve biscuits and a small bottle of water for free. This was ok for me but sandwiches had run out from the in-flight cafe to the disappointment of passengers. Inflight wifi is limited and you have to pay to access music or programmes. BA's offering is well below that of Aegean and this level of service is not suitable for easterly destinations such as Larnaca. So I would certainly fly again with BA to Athens but only in the event Aegean has no seats or the fare is cheaper.\n",
       "...                                                                                                                                                                                                                                                                                                                                                                                                                                                                                                                                                                                                                                                                                                                                                                                                                                                                                                                                                                                                                                                                                                                                                                                                                                                                                                                                                                                                                                                                                                                                                                                                                                                                                                                     ...              ...             ...           ...              ...                                                                                                                                                                                                                                                                                                                                                                                                                                                                                                                                                                                                                                                                                                                                                                                                                                                                                                                                                                                                                                                                                                                                                                                                                                                                                                                                                                                                                                                                                                                                                                                                                                                                                                ...\n",
       "3495                                                                                                                                                                                                                                                                                                                                                                                                                                                                                                                                                                                                                                                                                                                                                                                                                                                                                                                                                                                                                                                                                                                                                                                                                                                                            IAH-LHR B747 which was old but sat upstairs and it made it very pleasant. They charged $129 extra to reserve a business class seat in the upper deck. Do not care for the seating of one seat forward and one backwards. The food was terrible and they did not really want to serve any drinks unless they had too. Felt like I was in economy. Nuts were in a bag and breakfast was not much better. Flight attendants not very friendly.  4 December 2014   United States  10/10 rating   ❌ Not Verified                                                                                                                                                                                                                                                                                                                                                                                                                                                                                                                                                                                                                                                                                                                                                                                                                                                                                                                                                                                                                                                                                                                                                                                                                                                        IAH-LHR B747 which was old but sat upstairs and it made it very pleasant. They charged $129 extra to reserve a business class seat in the upper deck. Do not care for the seating of one seat forward and one backwards. The food was terrible and they did not really want to serve any drinks unless they had too. Felt like I was in economy. Nuts were in a bag and breakfast was not much better. Flight attendants not very friendly.\n",
       "3496                                                                                                                                                                                                                                                                                                                                                                                                                                                                                                                                                                                                                                                                                                                                                                                                                                                                                              YVR-LHR-AMS. An uneventful journey with BA but their Boeing 747 from Vancouver was a flashback to the 1990's. Dated interior with cold colours old seats that recline practically into your face making the already cramped space even more uncomfortable - you could also occasionally feel the person's knees pushing into the back of your own seat. The in-flight entertainment was equally old with a blurry screen and limited choice of entertainment. The cabin crew were courteous and friendly. Arrival and transfer in BA's Terminal 5 was very smooth and relaxing. The connecting flight to Amsterdam was a modern Airbus A319 with bright and comfortable interior/seating. Unless BA revamp their ageing 747 fleet consider fly with Virgin Air Canada or even Air Transat for the Vancouver-London route.  4 December 2014          Canada   8/10 rating   ❌ Not Verified                                                                                                                                                                                                                                                                                                                                                                                                                                                                                                                                                                                                                                                                                                                                                                                                                                                                          YVR-LHR-AMS. An uneventful journey with BA but their Boeing 747 from Vancouver was a flashback to the 1990's. Dated interior with cold colours old seats that recline practically into your face making the already cramped space even more uncomfortable - you could also occasionally feel the person's knees pushing into the back of your own seat. The in-flight entertainment was equally old with a blurry screen and limited choice of entertainment. The cabin crew were courteous and friendly. Arrival and transfer in BA's Terminal 5 was very smooth and relaxing. The connecting flight to Amsterdam was a modern Airbus A319 with bright and comfortable interior/seating. Unless BA revamp their ageing 747 fleet consider fly with Virgin Air Canada or even Air Transat for the Vancouver-London route.\n",
       "3497                                                                                                                                                                                                                                                                                                                                                                                                                                                                                                                                                                                                                                                                                                                              Have just completed four flights with British Airways all in Economy and all long-haul. Two were on the A380 one on the B787 and the fourth on a refurbished B777. So they all had the new seat. I find it comfortable although never seem to get the headrest really right. The seats are narrow and on busy flights your neighbours can be rather close. At 1.83m the leg room and spacing was fine although some seats do have restrictions with the entertainment system. The 380 and 787 are very quiet which makes the toilets sound nosier should you be near them. On the upper deck of the 380 the overhead bin space in the back economy section is woefully inadequate. I'm sure it was never planned for economy seating. Food ok - my special meals came as ordered. Flights on time or early and staff helpful and pleasant. Heathrow T5 can be a problem depending on when you travel and the main section (A) can get very busy as people wait to learn the gate details.  4 December 2014    South Africa   5/10 rating   ❌ Not Verified                                                                                                                                                                                                                                                                                                                                                                                                                                                                                                                                                                                                                                                                                                          Have just completed four flights with British Airways all in Economy and all long-haul. Two were on the A380 one on the B787 and the fourth on a refurbished B777. So they all had the new seat. I find it comfortable although never seem to get the headrest really right. The seats are narrow and on busy flights your neighbours can be rather close. At 1.83m the leg room and spacing was fine although some seats do have restrictions with the entertainment system. The 380 and 787 are very quiet which makes the toilets sound nosier should you be near them. On the upper deck of the 380 the overhead bin space in the back economy section is woefully inadequate. I'm sure it was never planned for economy seating. Food ok - my special meals came as ordered. Flights on time or early and staff helpful and pleasant. Heathrow T5 can be a problem depending on when you travel and the main section (A) can get very busy as people wait to learn the gate details.\n",
       "3498                                                                                                                                                                                                                                                                                                                                                                                                                                                                                                                                                                                                                                                                                                                                                                British Airways for some reason was incapable of seating me next to my husband during our recent 8 hour flight. We made the reservation many months ago attempted several times to select seats and were told we could not do so in advance but needed to wait until we got to the airport. This was our first time flying with them and every other airline we have ever flown has allowed us to sit together. It is usually assumed that if we are married and making the reservation together at the same time using one credit card and paying a lot for the trip that we actually want to sit next to each other. When we tried to change our seats to be together all representatives said being separated was typical. Which is strange because then you have a plane full of families that have been physically separated for no apparent reason. While it's always fun to meet new strangers we will not be flying with British Airways again.  4 December 2014   United States   9/10 rating   ❌ Not Verified                                                                                                                                                                                                                                                                                                                                                                                                                                                                                                                                                                                                                                                                                                                                            British Airways for some reason was incapable of seating me next to my husband during our recent 8 hour flight. We made the reservation many months ago attempted several times to select seats and were told we could not do so in advance but needed to wait until we got to the airport. This was our first time flying with them and every other airline we have ever flown has allowed us to sit together. It is usually assumed that if we are married and making the reservation together at the same time using one credit card and paying a lot for the trip that we actually want to sit next to each other. When we tried to change our seats to be together all representatives said being separated was typical. Which is strange because then you have a plane full of families that have been physically separated for no apparent reason. While it's always fun to meet new strangers we will not be flying with British Airways again.\n",
       "3499                                                                                                                                                                                                                                                                                                                                                                                                                                                                                                                                                                                                                                                                                                                                                                                                                                                                                                                                                                                                                                                                                                                                 BA216 from Washington to London in World Traveller Plus on BA's new A380 (upper level) - one of the smoothest quietest flights I've experienced in 45 years of flying. Practically everything went off perfectly - less jet noise than on other aircraft decent food great leg-room and seat width a relaxing cabin layout and a top-notch cabin crew (no rating for entertainment since apart from the flight tracker I don't use it) - even the boarding and disembarkation despite being on two levels seemed more orderly than in the past on other aircraft. A success all round.  4 December 2014   United States   5/10 rating   ❌ Not Verified                                                                                                                                                                                                                                                                                                                                                                                                                                                                                                                                                                                                                                                                                                                                                                                                                                                                                                                                                                                                                                                                                                             BA216 from Washington to London in World Traveller Plus on BA's new A380 (upper level) - one of the smoothest quietest flights I've experienced in 45 years of flying. Practically everything went off perfectly - less jet noise than on other aircraft decent food great leg-room and seat width a relaxing cabin layout and a top-notch cabin crew (no rating for entertainment since apart from the flight tracker I don't use it) - even the boarding and disembarkation despite being on two levels seemed more orderly than in the past on other aircraft. A success all round.\n",
       "\n",
       "[3499 rows x 6 columns]"
      ]
     },
     "execution_count": 130,
     "metadata": {},
     "output_type": "execute_result"
    }
   ],
   "source": [
    "df"
   ]
  },
  {
   "cell_type": "code",
   "execution_count": 131,
   "id": "e2688462-faca-4113-91e2-b4cd4296ef7d",
   "metadata": {},
   "outputs": [],
   "source": [
    "df['Verified'] = df['Verified'].apply(lambda x: '❌ Not Verified' if 'Not Verified' in str(x) else x)"
   ]
  },
  {
   "cell_type": "code",
   "execution_count": 132,
   "id": "167c352b-40f0-4ca2-9e62-83fd872cd632",
   "metadata": {},
   "outputs": [
    {
     "data": {
      "text/html": [
       "<div>\n",
       "<style scoped>\n",
       "    .dataframe tbody tr th:only-of-type {\n",
       "        vertical-align: middle;\n",
       "    }\n",
       "\n",
       "    .dataframe tbody tr th {\n",
       "        vertical-align: top;\n",
       "    }\n",
       "\n",
       "    .dataframe thead th {\n",
       "        text-align: right;\n",
       "    }\n",
       "</style>\n",
       "<table border=\"1\" class=\"dataframe\">\n",
       "  <thead>\n",
       "    <tr style=\"text-align: right;\">\n",
       "      <th></th>\n",
       "      <th>Review</th>\n",
       "      <th>Date</th>\n",
       "      <th>Country</th>\n",
       "      <th>Rating</th>\n",
       "      <th>Verified</th>\n",
       "      <th>Raw_Review</th>\n",
       "    </tr>\n",
       "  </thead>\n",
       "  <tbody>\n",
       "    <tr>\n",
       "      <th>0</th>\n",
       "      <td>✅ Trip Verified | Although transferring to this flight through Heathrow from Budapest took almost an hour, the flight crew was welcoming and friendly as we boarded at the last minute. I had tried to reserve a vegetarian meal online the day before the flight but couldn't, and asked Sarah, the head flight attendant, if they might be able to provide one. She not only found a delicious meal from Premium, Economy, but was especially caring and helpful throughout the flight. The flight attendants also offered water and juice several times during the flight. I was also impressed with the wide range of entertainment offerings, which included some first-rate films.</td>\n",
       "      <td>15 May 2025</td>\n",
       "      <td>United States</td>\n",
       "      <td>5/10 rating</td>\n",
       "      <td>✅ Trip Verified</td>\n",
       "      <td>Although transferring to this flight through Heathrow from Budapest took almost an hour, the flight crew was welcoming and friendly as we boarded at the last minute. I had tried to reserve a vegetarian meal online the day before the flight but couldn't, and asked Sarah, the head flight attendant, if they might be able to provide one. She not only found a delicious meal from Premium, Economy, but was especially caring and helpful throughout the flight. The flight attendants also offered water and juice several times during the flight. I was also impressed with the wide range of entertainment offerings, which included some first-rate films.</td>\n",
       "    </tr>\n",
       "    <tr>\n",
       "      <th>1</th>\n",
       "      <td>✅ Trip Verified |   We are extremely grateful to the crew of flight BA0058 from Cape Town to Heathrow. They brought us home with such a high level of professionalism, flexibility, and empathy.  Thank you so much.</td>\n",
       "      <td>8 May 2025</td>\n",
       "      <td>Switzerland</td>\n",
       "      <td>8/10 rating</td>\n",
       "      <td>✅ Trip Verified</td>\n",
       "      <td>We are extremely grateful to the crew of flight BA0058 from Cape Town to Heathrow. They brought us home with such a high level of professionalism, flexibility, and empathy.  Thank you so much.</td>\n",
       "    </tr>\n",
       "    <tr>\n",
       "      <th>2</th>\n",
       "      <td>✅ Trip Verified |   I had an appalling experience with British Airways. It started when I tried to check in online but couldn’t change my seat due to repeated website errors. I arrived at the airport 4 hours early to sort it out, but the staff at the check-in counter refused to help me—brushing me off before I could even say which flight I was on, simply saying all flights were full. Incredibly rude and unprofessional. The BA lounge was overcrowded, uncomfortable, and poorly equipped—wooden utensils only and very limited seating. Shortly before boarding, I was struck with excruciating abdominal pain. Fearing a medical emergency, I asked to be offloaded. Staff at the boarding gate took my boarding pass and luggage tag, asked me to wait, and then left me sitting there in agony for 40 minutes. I eventually asked to leave to go to hospital—staff said it was fine. However, in my distress, I didn’t realise that they had taken my boarding pass with the baggage reference on it. I asked a group of wheelchair porters heading in my direction for help. None assisted me. I collapsed midway and was finally stretchered away by medics and taken to hospital. Thankfully, I received treatment and have now returned home. Since then, I’ve been trying to retrieve my luggage. Every number I’ve tried—online, via the airport, and through customer service—is either unreachable, goes to voicemail, or simply rings out. I have no idea where my bag is, and no one is helping. This is completely unacceptable from an international airline. British Airways has failed at every stage: technical support, in-person service, medical handling, and post-flight care.</td>\n",
       "      <td>29 April 2025</td>\n",
       "      <td>South Africa</td>\n",
       "      <td>10/10 rating</td>\n",
       "      <td>✅ Trip Verified</td>\n",
       "      <td>I had an appalling experience with British Airways. It started when I tried to check in online but couldn’t change my seat due to repeated website errors. I arrived at the airport 4 hours early to sort it out, but the staff at the check-in counter refused to help me—brushing me off before I could even say which flight I was on, simply saying all flights were full. Incredibly rude and unprofessional. The BA lounge was overcrowded, uncomfortable, and poorly equipped—wooden utensils only and very limited seating. Shortly before boarding, I was struck with excruciating abdominal pain. Fearing a medical emergency, I asked to be offloaded. Staff at the boarding gate took my boarding pass and luggage tag, asked me to wait, and then left me sitting there in agony for 40 minutes. I eventually asked to leave to go to hospital—staff said it was fine. However, in my distress, I didn’t realise that they had taken my boarding pass with the baggage reference on it. I asked a group of wheelchair porters heading in my direction for help. None assisted me. I collapsed midway and was finally stretchered away by medics and taken to hospital. Thankfully, I received treatment and have now returned home. Since then, I’ve been trying to retrieve my luggage. Every number I’ve tried—online, via the airport, and through customer service—is either unreachable, goes to voicemail, or simply rings out. I have no idea where my bag is, and no one is helping. This is completely unacceptable from an international airline. British Airways has failed at every stage: technical support, in-person service, medical handling, and post-flight care.</td>\n",
       "    </tr>\n",
       "    <tr>\n",
       "      <th>3</th>\n",
       "      <td>Not Verified |  Good points, the cabin crew, they were helpful, professional and mature, Quantity and quality of food, cleanliness of the aircraft which was spotless Picture of a pub in the forward toilet and the flight was on time. BA's T3 lounge is just not anything special, mediocre at best, food options lacking, its Gatwick &amp; T5 lounges are far more superior. On board usual poor seat pitch, the Club Europe product is inconsistent, no hot towels, menu given however food delivered on a trolley in the economy way, all the courses on one tray. No further bar offerings unless one used the call bell. Parked on remote stand at Krakow. On return Krakow - LHR Queued for twenty minutes at the Club Europe check in desk, the non-BA lounge was basic and at the late departure time of the flight, minimal food choices. On boarding Cramped into a bus and walked up on remote stand. No menus or hot towels, however meal orders taken individually and delivered direct from the Galley, seat uncomfortable, no wi-fi. Had to request tea after meal. Again inconsistency in service. The extra cost of Club Europe is hard to justify, there have been improvements in catering, however the product needs to be elevated to justify the cost.</td>\n",
       "      <td>22 April 2025</td>\n",
       "      <td>United Kingdom</td>\n",
       "      <td>3/10 rating</td>\n",
       "      <td>❌ Not Verified</td>\n",
       "      <td>Good points, the cabin crew, they were helpful, professional and mature, Quantity and quality of food, cleanliness of the aircraft which was spotless Picture of a pub in the forward toilet and the flight was on time. BA's T3 lounge is just not anything special, mediocre at best, food options lacking, its Gatwick &amp; T5 lounges are far more superior. On board usual poor seat pitch, the Club Europe product is inconsistent, no hot towels, menu given however food delivered on a trolley in the economy way, all the courses on one tray. No further bar offerings unless one used the call bell. Parked on remote stand at Krakow. On return Krakow - LHR Queued for twenty minutes at the Club Europe check in desk, the non-BA lounge was basic and at the late departure time of the flight, minimal food choices. On boarding Cramped into a bus and walked up on remote stand. No menus or hot towels, however meal orders taken individually and delivered direct from the Galley, seat uncomfortable, no wi-fi. Had to request tea after meal. Again inconsistency in service. The extra cost of Club Europe is hard to justify, there have been improvements in catering, however the product needs to be elevated to justify the cost.</td>\n",
       "    </tr>\n",
       "    <tr>\n",
       "      <th>4</th>\n",
       "      <td>Not Verified |  It was a decent flight, reasonable comfortable seat and pilot kept us nicely informed about the flight's progress. BA serve biscuits and a small bottle of water for free. This was ok for me but sandwiches had run out from the in-flight cafe to the disappointment of passengers. Inflight wifi is limited and you have to pay to access music or programmes. BA's offering is well below that of Aegean and this level of service is not suitable for easterly destinations such as Larnaca. So I would certainly fly again with BA to Athens but only in the event Aegean has no seats or the fare is cheaper.</td>\n",
       "      <td>22 April 2025</td>\n",
       "      <td>United Kingdom</td>\n",
       "      <td>6/10 rating</td>\n",
       "      <td>❌ Not Verified</td>\n",
       "      <td>It was a decent flight, reasonable comfortable seat and pilot kept us nicely informed about the flight's progress. BA serve biscuits and a small bottle of water for free. This was ok for me but sandwiches had run out from the in-flight cafe to the disappointment of passengers. Inflight wifi is limited and you have to pay to access music or programmes. BA's offering is well below that of Aegean and this level of service is not suitable for easterly destinations such as Larnaca. So I would certainly fly again with BA to Athens but only in the event Aegean has no seats or the fare is cheaper.</td>\n",
       "    </tr>\n",
       "    <tr>\n",
       "      <th>...</th>\n",
       "      <td>...</td>\n",
       "      <td>...</td>\n",
       "      <td>...</td>\n",
       "      <td>...</td>\n",
       "      <td>...</td>\n",
       "      <td>...</td>\n",
       "    </tr>\n",
       "    <tr>\n",
       "      <th>3495</th>\n",
       "      <td>IAH-LHR B747 which was old but sat upstairs and it made it very pleasant. They charged $129 extra to reserve a business class seat in the upper deck. Do not care for the seating of one seat forward and one backwards. The food was terrible and they did not really want to serve any drinks unless they had too. Felt like I was in economy. Nuts were in a bag and breakfast was not much better. Flight attendants not very friendly.</td>\n",
       "      <td>4 December 2014</td>\n",
       "      <td>United States</td>\n",
       "      <td>10/10 rating</td>\n",
       "      <td>❌ Not Verified</td>\n",
       "      <td>IAH-LHR B747 which was old but sat upstairs and it made it very pleasant. They charged $129 extra to reserve a business class seat in the upper deck. Do not care for the seating of one seat forward and one backwards. The food was terrible and they did not really want to serve any drinks unless they had too. Felt like I was in economy. Nuts were in a bag and breakfast was not much better. Flight attendants not very friendly.</td>\n",
       "    </tr>\n",
       "    <tr>\n",
       "      <th>3496</th>\n",
       "      <td>YVR-LHR-AMS. An uneventful journey with BA but their Boeing 747 from Vancouver was a flashback to the 1990's. Dated interior with cold colours old seats that recline practically into your face making the already cramped space even more uncomfortable - you could also occasionally feel the person's knees pushing into the back of your own seat. The in-flight entertainment was equally old with a blurry screen and limited choice of entertainment. The cabin crew were courteous and friendly. Arrival and transfer in BA's Terminal 5 was very smooth and relaxing. The connecting flight to Amsterdam was a modern Airbus A319 with bright and comfortable interior/seating. Unless BA revamp their ageing 747 fleet consider fly with Virgin Air Canada or even Air Transat for the Vancouver-London route.</td>\n",
       "      <td>4 December 2014</td>\n",
       "      <td>Canada</td>\n",
       "      <td>8/10 rating</td>\n",
       "      <td>❌ Not Verified</td>\n",
       "      <td>YVR-LHR-AMS. An uneventful journey with BA but their Boeing 747 from Vancouver was a flashback to the 1990's. Dated interior with cold colours old seats that recline practically into your face making the already cramped space even more uncomfortable - you could also occasionally feel the person's knees pushing into the back of your own seat. The in-flight entertainment was equally old with a blurry screen and limited choice of entertainment. The cabin crew were courteous and friendly. Arrival and transfer in BA's Terminal 5 was very smooth and relaxing. The connecting flight to Amsterdam was a modern Airbus A319 with bright and comfortable interior/seating. Unless BA revamp their ageing 747 fleet consider fly with Virgin Air Canada or even Air Transat for the Vancouver-London route.</td>\n",
       "    </tr>\n",
       "    <tr>\n",
       "      <th>3497</th>\n",
       "      <td>Have just completed four flights with British Airways all in Economy and all long-haul. Two were on the A380 one on the B787 and the fourth on a refurbished B777. So they all had the new seat. I find it comfortable although never seem to get the headrest really right. The seats are narrow and on busy flights your neighbours can be rather close. At 1.83m the leg room and spacing was fine although some seats do have restrictions with the entertainment system. The 380 and 787 are very quiet which makes the toilets sound nosier should you be near them. On the upper deck of the 380 the overhead bin space in the back economy section is woefully inadequate. I'm sure it was never planned for economy seating. Food ok - my special meals came as ordered. Flights on time or early and staff helpful and pleasant. Heathrow T5 can be a problem depending on when you travel and the main section (A) can get very busy as people wait to learn the gate details.</td>\n",
       "      <td>4 December 2014</td>\n",
       "      <td>South Africa</td>\n",
       "      <td>5/10 rating</td>\n",
       "      <td>❌ Not Verified</td>\n",
       "      <td>Have just completed four flights with British Airways all in Economy and all long-haul. Two were on the A380 one on the B787 and the fourth on a refurbished B777. So they all had the new seat. I find it comfortable although never seem to get the headrest really right. The seats are narrow and on busy flights your neighbours can be rather close. At 1.83m the leg room and spacing was fine although some seats do have restrictions with the entertainment system. The 380 and 787 are very quiet which makes the toilets sound nosier should you be near them. On the upper deck of the 380 the overhead bin space in the back economy section is woefully inadequate. I'm sure it was never planned for economy seating. Food ok - my special meals came as ordered. Flights on time or early and staff helpful and pleasant. Heathrow T5 can be a problem depending on when you travel and the main section (A) can get very busy as people wait to learn the gate details.</td>\n",
       "    </tr>\n",
       "    <tr>\n",
       "      <th>3498</th>\n",
       "      <td>British Airways for some reason was incapable of seating me next to my husband during our recent 8 hour flight. We made the reservation many months ago attempted several times to select seats and were told we could not do so in advance but needed to wait until we got to the airport. This was our first time flying with them and every other airline we have ever flown has allowed us to sit together. It is usually assumed that if we are married and making the reservation together at the same time using one credit card and paying a lot for the trip that we actually want to sit next to each other. When we tried to change our seats to be together all representatives said being separated was typical. Which is strange because then you have a plane full of families that have been physically separated for no apparent reason. While it's always fun to meet new strangers we will not be flying with British Airways again.</td>\n",
       "      <td>4 December 2014</td>\n",
       "      <td>United States</td>\n",
       "      <td>9/10 rating</td>\n",
       "      <td>❌ Not Verified</td>\n",
       "      <td>British Airways for some reason was incapable of seating me next to my husband during our recent 8 hour flight. We made the reservation many months ago attempted several times to select seats and were told we could not do so in advance but needed to wait until we got to the airport. This was our first time flying with them and every other airline we have ever flown has allowed us to sit together. It is usually assumed that if we are married and making the reservation together at the same time using one credit card and paying a lot for the trip that we actually want to sit next to each other. When we tried to change our seats to be together all representatives said being separated was typical. Which is strange because then you have a plane full of families that have been physically separated for no apparent reason. While it's always fun to meet new strangers we will not be flying with British Airways again.</td>\n",
       "    </tr>\n",
       "    <tr>\n",
       "      <th>3499</th>\n",
       "      <td>BA216 from Washington to London in World Traveller Plus on BA's new A380 (upper level) - one of the smoothest quietest flights I've experienced in 45 years of flying. Practically everything went off perfectly - less jet noise than on other aircraft decent food great leg-room and seat width a relaxing cabin layout and a top-notch cabin crew (no rating for entertainment since apart from the flight tracker I don't use it) - even the boarding and disembarkation despite being on two levels seemed more orderly than in the past on other aircraft. A success all round.</td>\n",
       "      <td>4 December 2014</td>\n",
       "      <td>United States</td>\n",
       "      <td>5/10 rating</td>\n",
       "      <td>❌ Not Verified</td>\n",
       "      <td>BA216 from Washington to London in World Traveller Plus on BA's new A380 (upper level) - one of the smoothest quietest flights I've experienced in 45 years of flying. Practically everything went off perfectly - less jet noise than on other aircraft decent food great leg-room and seat width a relaxing cabin layout and a top-notch cabin crew (no rating for entertainment since apart from the flight tracker I don't use it) - even the boarding and disembarkation despite being on two levels seemed more orderly than in the past on other aircraft. A success all round.</td>\n",
       "    </tr>\n",
       "  </tbody>\n",
       "</table>\n",
       "<p>3499 rows × 6 columns</p>\n",
       "</div>"
      ],
      "text/plain": [
       "                                                                                                                                                                                                                                                                                                                                                                                                                                                                                                                                                                                                                                                                                                                                                                                                                                                                                                                                                                                                                                                                                                                                                                                                                                                                                                                                                                                                                                                                                                                                                                                                                                                                                                                     Review             Date         Country        Rating         Verified                                                                                                                                                                                                                                                                                                                                                                                                                                                                                                                                                                                                                                                                                                                                                                                                                                                                                                                                                                                                                                                                                                                                                                                                                                                                                                                                                                                                                                                                                                                                                                                                                                                                                         Raw_Review\n",
       "0                                                                                                                                                                                                                                                                                                                                                                                                                                                                                                                                                                                                                                                                                                                                                                                                                                                                                                                                                                                                                                  ✅ Trip Verified | Although transferring to this flight through Heathrow from Budapest took almost an hour, the flight crew was welcoming and friendly as we boarded at the last minute. I had tried to reserve a vegetarian meal online the day before the flight but couldn't, and asked Sarah, the head flight attendant, if they might be able to provide one. She not only found a delicious meal from Premium, Economy, but was especially caring and helpful throughout the flight. The flight attendants also offered water and juice several times during the flight. I was also impressed with the wide range of entertainment offerings, which included some first-rate films.      15 May 2025   United States   5/10 rating  ✅ Trip Verified                                                                                                                                                                                                                                                                                                                                                                                                                                                                                                                                                                                                                                                                                                                                                                                                                                                                                                                                                                                                                             Although transferring to this flight through Heathrow from Budapest took almost an hour, the flight crew was welcoming and friendly as we boarded at the last minute. I had tried to reserve a vegetarian meal online the day before the flight but couldn't, and asked Sarah, the head flight attendant, if they might be able to provide one. She not only found a delicious meal from Premium, Economy, but was especially caring and helpful throughout the flight. The flight attendants also offered water and juice several times during the flight. I was also impressed with the wide range of entertainment offerings, which included some first-rate films.\n",
       "1                                                                                                                                                                                                                                                                                                                                                                                                                                                                                                                                                                                                                                                                                                                                                                                                                                                                                                                                                                                                                                                                                                                                                                                                                                                                                                                                                                                                                                                                                                      ✅ Trip Verified |   We are extremely grateful to the crew of flight BA0058 from Cape Town to Heathrow. They brought us home with such a high level of professionalism, flexibility, and empathy.  Thank you so much.       8 May 2025     Switzerland   8/10 rating  ✅ Trip Verified                                                                                                                                                                                                                                                                                                                                                                                                                                                                                                                                                                                                                                                                                                                                                                                                                                                                                                                                                                                                                                                                                                                                                                                                                                                                                                                                                                                                                                                                                                   We are extremely grateful to the crew of flight BA0058 from Cape Town to Heathrow. They brought us home with such a high level of professionalism, flexibility, and empathy.  Thank you so much.\n",
       "2     ✅ Trip Verified |   I had an appalling experience with British Airways. It started when I tried to check in online but couldn’t change my seat due to repeated website errors. I arrived at the airport 4 hours early to sort it out, but the staff at the check-in counter refused to help me—brushing me off before I could even say which flight I was on, simply saying all flights were full. Incredibly rude and unprofessional. The BA lounge was overcrowded, uncomfortable, and poorly equipped—wooden utensils only and very limited seating. Shortly before boarding, I was struck with excruciating abdominal pain. Fearing a medical emergency, I asked to be offloaded. Staff at the boarding gate took my boarding pass and luggage tag, asked me to wait, and then left me sitting there in agony for 40 minutes. I eventually asked to leave to go to hospital—staff said it was fine. However, in my distress, I didn’t realise that they had taken my boarding pass with the baggage reference on it. I asked a group of wheelchair porters heading in my direction for help. None assisted me. I collapsed midway and was finally stretchered away by medics and taken to hospital. Thankfully, I received treatment and have now returned home. Since then, I’ve been trying to retrieve my luggage. Every number I’ve tried—online, via the airport, and through customer service—is either unreachable, goes to voicemail, or simply rings out. I have no idea where my bag is, and no one is helping. This is completely unacceptable from an international airline. British Airways has failed at every stage: technical support, in-person service, medical handling, and post-flight care.    29 April 2025    South Africa  10/10 rating  ✅ Trip Verified  I had an appalling experience with British Airways. It started when I tried to check in online but couldn’t change my seat due to repeated website errors. I arrived at the airport 4 hours early to sort it out, but the staff at the check-in counter refused to help me—brushing me off before I could even say which flight I was on, simply saying all flights were full. Incredibly rude and unprofessional. The BA lounge was overcrowded, uncomfortable, and poorly equipped—wooden utensils only and very limited seating. Shortly before boarding, I was struck with excruciating abdominal pain. Fearing a medical emergency, I asked to be offloaded. Staff at the boarding gate took my boarding pass and luggage tag, asked me to wait, and then left me sitting there in agony for 40 minutes. I eventually asked to leave to go to hospital—staff said it was fine. However, in my distress, I didn’t realise that they had taken my boarding pass with the baggage reference on it. I asked a group of wheelchair porters heading in my direction for help. None assisted me. I collapsed midway and was finally stretchered away by medics and taken to hospital. Thankfully, I received treatment and have now returned home. Since then, I’ve been trying to retrieve my luggage. Every number I’ve tried—online, via the airport, and through customer service—is either unreachable, goes to voicemail, or simply rings out. I have no idea where my bag is, and no one is helping. This is completely unacceptable from an international airline. British Airways has failed at every stage: technical support, in-person service, medical handling, and post-flight care.\n",
       "3                                                                                                                                                                                                                                                                                                                                                                                                                                              Not Verified |  Good points, the cabin crew, they were helpful, professional and mature, Quantity and quality of food, cleanliness of the aircraft which was spotless Picture of a pub in the forward toilet and the flight was on time. BA's T3 lounge is just not anything special, mediocre at best, food options lacking, its Gatwick & T5 lounges are far more superior. On board usual poor seat pitch, the Club Europe product is inconsistent, no hot towels, menu given however food delivered on a trolley in the economy way, all the courses on one tray. No further bar offerings unless one used the call bell. Parked on remote stand at Krakow. On return Krakow - LHR Queued for twenty minutes at the Club Europe check in desk, the non-BA lounge was basic and at the late departure time of the flight, minimal food choices. On boarding Cramped into a bus and walked up on remote stand. No menus or hot towels, however meal orders taken individually and delivered direct from the Galley, seat uncomfortable, no wi-fi. Had to request tea after meal. Again inconsistency in service. The extra cost of Club Europe is hard to justify, there have been improvements in catering, however the product needs to be elevated to justify the cost.    22 April 2025  United Kingdom   3/10 rating   ❌ Not Verified                                                                                                                                                                                                                                                                                                                                                                                                                                       Good points, the cabin crew, they were helpful, professional and mature, Quantity and quality of food, cleanliness of the aircraft which was spotless Picture of a pub in the forward toilet and the flight was on time. BA's T3 lounge is just not anything special, mediocre at best, food options lacking, its Gatwick & T5 lounges are far more superior. On board usual poor seat pitch, the Club Europe product is inconsistent, no hot towels, menu given however food delivered on a trolley in the economy way, all the courses on one tray. No further bar offerings unless one used the call bell. Parked on remote stand at Krakow. On return Krakow - LHR Queued for twenty minutes at the Club Europe check in desk, the non-BA lounge was basic and at the late departure time of the flight, minimal food choices. On boarding Cramped into a bus and walked up on remote stand. No menus or hot towels, however meal orders taken individually and delivered direct from the Galley, seat uncomfortable, no wi-fi. Had to request tea after meal. Again inconsistency in service. The extra cost of Club Europe is hard to justify, there have been improvements in catering, however the product needs to be elevated to justify the cost.\n",
       "4                                                                                                                                                                                                                                                                                                                                                                                                                                                                                                                                                                                                                                                                                                                                                                                                                                                                                                                                                                                                                                                                                      Not Verified |  It was a decent flight, reasonable comfortable seat and pilot kept us nicely informed about the flight's progress. BA serve biscuits and a small bottle of water for free. This was ok for me but sandwiches had run out from the in-flight cafe to the disappointment of passengers. Inflight wifi is limited and you have to pay to access music or programmes. BA's offering is well below that of Aegean and this level of service is not suitable for easterly destinations such as Larnaca. So I would certainly fly again with BA to Athens but only in the event Aegean has no seats or the fare is cheaper.    22 April 2025  United Kingdom   6/10 rating   ❌ Not Verified                                                                                                                                                                                                                                                                                                                                                                                                                                                                                                                                                                                                                                                                                                                                                                                                                                                                                                                                                                                                                                                                               It was a decent flight, reasonable comfortable seat and pilot kept us nicely informed about the flight's progress. BA serve biscuits and a small bottle of water for free. This was ok for me but sandwiches had run out from the in-flight cafe to the disappointment of passengers. Inflight wifi is limited and you have to pay to access music or programmes. BA's offering is well below that of Aegean and this level of service is not suitable for easterly destinations such as Larnaca. So I would certainly fly again with BA to Athens but only in the event Aegean has no seats or the fare is cheaper.\n",
       "...                                                                                                                                                                                                                                                                                                                                                                                                                                                                                                                                                                                                                                                                                                                                                                                                                                                                                                                                                                                                                                                                                                                                                                                                                                                                                                                                                                                                                                                                                                                                                                                                                                                                                                                     ...              ...             ...           ...              ...                                                                                                                                                                                                                                                                                                                                                                                                                                                                                                                                                                                                                                                                                                                                                                                                                                                                                                                                                                                                                                                                                                                                                                                                                                                                                                                                                                                                                                                                                                                                                                                                                                                                                                ...\n",
       "3495                                                                                                                                                                                                                                                                                                                                                                                                                                                                                                                                                                                                                                                                                                                                                                                                                                                                                                                                                                                                                                                                                                                                                                                                                                                                            IAH-LHR B747 which was old but sat upstairs and it made it very pleasant. They charged $129 extra to reserve a business class seat in the upper deck. Do not care for the seating of one seat forward and one backwards. The food was terrible and they did not really want to serve any drinks unless they had too. Felt like I was in economy. Nuts were in a bag and breakfast was not much better. Flight attendants not very friendly.  4 December 2014   United States  10/10 rating   ❌ Not Verified                                                                                                                                                                                                                                                                                                                                                                                                                                                                                                                                                                                                                                                                                                                                                                                                                                                                                                                                                                                                                                                                                                                                                                                                                                                        IAH-LHR B747 which was old but sat upstairs and it made it very pleasant. They charged $129 extra to reserve a business class seat in the upper deck. Do not care for the seating of one seat forward and one backwards. The food was terrible and they did not really want to serve any drinks unless they had too. Felt like I was in economy. Nuts were in a bag and breakfast was not much better. Flight attendants not very friendly.\n",
       "3496                                                                                                                                                                                                                                                                                                                                                                                                                                                                                                                                                                                                                                                                                                                                                                                                                                                                                              YVR-LHR-AMS. An uneventful journey with BA but their Boeing 747 from Vancouver was a flashback to the 1990's. Dated interior with cold colours old seats that recline practically into your face making the already cramped space even more uncomfortable - you could also occasionally feel the person's knees pushing into the back of your own seat. The in-flight entertainment was equally old with a blurry screen and limited choice of entertainment. The cabin crew were courteous and friendly. Arrival and transfer in BA's Terminal 5 was very smooth and relaxing. The connecting flight to Amsterdam was a modern Airbus A319 with bright and comfortable interior/seating. Unless BA revamp their ageing 747 fleet consider fly with Virgin Air Canada or even Air Transat for the Vancouver-London route.  4 December 2014          Canada   8/10 rating   ❌ Not Verified                                                                                                                                                                                                                                                                                                                                                                                                                                                                                                                                                                                                                                                                                                                                                                                                                                                                          YVR-LHR-AMS. An uneventful journey with BA but their Boeing 747 from Vancouver was a flashback to the 1990's. Dated interior with cold colours old seats that recline practically into your face making the already cramped space even more uncomfortable - you could also occasionally feel the person's knees pushing into the back of your own seat. The in-flight entertainment was equally old with a blurry screen and limited choice of entertainment. The cabin crew were courteous and friendly. Arrival and transfer in BA's Terminal 5 was very smooth and relaxing. The connecting flight to Amsterdam was a modern Airbus A319 with bright and comfortable interior/seating. Unless BA revamp their ageing 747 fleet consider fly with Virgin Air Canada or even Air Transat for the Vancouver-London route.\n",
       "3497                                                                                                                                                                                                                                                                                                                                                                                                                                                                                                                                                                                                                                                                                                                              Have just completed four flights with British Airways all in Economy and all long-haul. Two were on the A380 one on the B787 and the fourth on a refurbished B777. So they all had the new seat. I find it comfortable although never seem to get the headrest really right. The seats are narrow and on busy flights your neighbours can be rather close. At 1.83m the leg room and spacing was fine although some seats do have restrictions with the entertainment system. The 380 and 787 are very quiet which makes the toilets sound nosier should you be near them. On the upper deck of the 380 the overhead bin space in the back economy section is woefully inadequate. I'm sure it was never planned for economy seating. Food ok - my special meals came as ordered. Flights on time or early and staff helpful and pleasant. Heathrow T5 can be a problem depending on when you travel and the main section (A) can get very busy as people wait to learn the gate details.  4 December 2014    South Africa   5/10 rating   ❌ Not Verified                                                                                                                                                                                                                                                                                                                                                                                                                                                                                                                                                                                                                                                                                                          Have just completed four flights with British Airways all in Economy and all long-haul. Two were on the A380 one on the B787 and the fourth on a refurbished B777. So they all had the new seat. I find it comfortable although never seem to get the headrest really right. The seats are narrow and on busy flights your neighbours can be rather close. At 1.83m the leg room and spacing was fine although some seats do have restrictions with the entertainment system. The 380 and 787 are very quiet which makes the toilets sound nosier should you be near them. On the upper deck of the 380 the overhead bin space in the back economy section is woefully inadequate. I'm sure it was never planned for economy seating. Food ok - my special meals came as ordered. Flights on time or early and staff helpful and pleasant. Heathrow T5 can be a problem depending on when you travel and the main section (A) can get very busy as people wait to learn the gate details.\n",
       "3498                                                                                                                                                                                                                                                                                                                                                                                                                                                                                                                                                                                                                                                                                                                                                                British Airways for some reason was incapable of seating me next to my husband during our recent 8 hour flight. We made the reservation many months ago attempted several times to select seats and were told we could not do so in advance but needed to wait until we got to the airport. This was our first time flying with them and every other airline we have ever flown has allowed us to sit together. It is usually assumed that if we are married and making the reservation together at the same time using one credit card and paying a lot for the trip that we actually want to sit next to each other. When we tried to change our seats to be together all representatives said being separated was typical. Which is strange because then you have a plane full of families that have been physically separated for no apparent reason. While it's always fun to meet new strangers we will not be flying with British Airways again.  4 December 2014   United States   9/10 rating   ❌ Not Verified                                                                                                                                                                                                                                                                                                                                                                                                                                                                                                                                                                                                                                                                                                                                            British Airways for some reason was incapable of seating me next to my husband during our recent 8 hour flight. We made the reservation many months ago attempted several times to select seats and were told we could not do so in advance but needed to wait until we got to the airport. This was our first time flying with them and every other airline we have ever flown has allowed us to sit together. It is usually assumed that if we are married and making the reservation together at the same time using one credit card and paying a lot for the trip that we actually want to sit next to each other. When we tried to change our seats to be together all representatives said being separated was typical. Which is strange because then you have a plane full of families that have been physically separated for no apparent reason. While it's always fun to meet new strangers we will not be flying with British Airways again.\n",
       "3499                                                                                                                                                                                                                                                                                                                                                                                                                                                                                                                                                                                                                                                                                                                                                                                                                                                                                                                                                                                                                                                                                                                                 BA216 from Washington to London in World Traveller Plus on BA's new A380 (upper level) - one of the smoothest quietest flights I've experienced in 45 years of flying. Practically everything went off perfectly - less jet noise than on other aircraft decent food great leg-room and seat width a relaxing cabin layout and a top-notch cabin crew (no rating for entertainment since apart from the flight tracker I don't use it) - even the boarding and disembarkation despite being on two levels seemed more orderly than in the past on other aircraft. A success all round.  4 December 2014   United States   5/10 rating   ❌ Not Verified                                                                                                                                                                                                                                                                                                                                                                                                                                                                                                                                                                                                                                                                                                                                                                                                                                                                                                                                                                                                                                                                                                             BA216 from Washington to London in World Traveller Plus on BA's new A380 (upper level) - one of the smoothest quietest flights I've experienced in 45 years of flying. Practically everything went off perfectly - less jet noise than on other aircraft decent food great leg-room and seat width a relaxing cabin layout and a top-notch cabin crew (no rating for entertainment since apart from the flight tracker I don't use it) - even the boarding and disembarkation despite being on two levels seemed more orderly than in the past on other aircraft. A success all round.\n",
       "\n",
       "[3499 rows x 6 columns]"
      ]
     },
     "execution_count": 132,
     "metadata": {},
     "output_type": "execute_result"
    }
   ],
   "source": [
    "df"
   ]
  },
  {
   "cell_type": "code",
   "execution_count": 133,
   "id": "d2dd44e7-0905-4a08-8d6f-edb81bc0ba22",
   "metadata": {},
   "outputs": [
    {
     "data": {
      "text/plain": [
       "np.int64(4)"
      ]
     },
     "execution_count": 133,
     "metadata": {},
     "output_type": "execute_result"
    }
   ],
   "source": [
    "df.duplicated(subset=['Raw_Review']).sum()"
   ]
  },
  {
   "cell_type": "code",
   "execution_count": 134,
   "id": "ad1ffedc-fab9-474e-8e86-d8a706692730",
   "metadata": {},
   "outputs": [
    {
     "data": {
      "text/plain": [
       "np.int64(0)"
      ]
     },
     "execution_count": 134,
     "metadata": {},
     "output_type": "execute_result"
    }
   ],
   "source": [
    "df.duplicated().sum() # no duplicates\n"
   ]
  },
  {
   "cell_type": "code",
   "execution_count": 135,
   "id": "e3aa2292-8706-4eb6-8c8d-565bbd2936f5",
   "metadata": {},
   "outputs": [],
   "source": [
    "df['Cleaned_Review'] = df['Raw_Review'].str.lower() # cleaned-review col with lowercase"
   ]
  },
  {
   "cell_type": "code",
   "execution_count": 137,
   "id": "e5668231-e13b-41c7-a1e7-4eb3e035652a",
   "metadata": {},
   "outputs": [],
   "source": [
    "df = df.drop(columns=['Raw_Review']) # dropping the raw_review col"
   ]
  },
  {
   "cell_type": "code",
   "execution_count": 139,
   "id": "29c8e975-8c85-48c0-82f1-f3e2e374a45f",
   "metadata": {},
   "outputs": [],
   "source": [
    "df['Cleaned_Review'] = df['Cleaned_Review'].str.replace(f'[{string.punctuation}]', '', regex=True)"
   ]
  },
  {
   "cell_type": "code",
   "execution_count": 140,
   "id": "6f871ed5-d120-4272-ab49-eaade7c672b8",
   "metadata": {},
   "outputs": [
    {
     "data": {
      "text/html": [
       "<div>\n",
       "<style scoped>\n",
       "    .dataframe tbody tr th:only-of-type {\n",
       "        vertical-align: middle;\n",
       "    }\n",
       "\n",
       "    .dataframe tbody tr th {\n",
       "        vertical-align: top;\n",
       "    }\n",
       "\n",
       "    .dataframe thead th {\n",
       "        text-align: right;\n",
       "    }\n",
       "</style>\n",
       "<table border=\"1\" class=\"dataframe\">\n",
       "  <thead>\n",
       "    <tr style=\"text-align: right;\">\n",
       "      <th></th>\n",
       "      <th>Review</th>\n",
       "      <th>Date</th>\n",
       "      <th>Country</th>\n",
       "      <th>Rating</th>\n",
       "      <th>Verified</th>\n",
       "      <th>Cleaned_Review</th>\n",
       "    </tr>\n",
       "  </thead>\n",
       "  <tbody>\n",
       "    <tr>\n",
       "      <th>0</th>\n",
       "      <td>✅ Trip Verified | Although transferring to this flight through Heathrow from Budapest took almost an hour, the flight crew was welcoming and friendly as we boarded at the last minute. I had tried to reserve a vegetarian meal online the day before the flight but couldn't, and asked Sarah, the head flight attendant, if they might be able to provide one. She not only found a delicious meal from Premium, Economy, but was especially caring and helpful throughout the flight. The flight attendants also offered water and juice several times during the flight. I was also impressed with the wide range of entertainment offerings, which included some first-rate films.</td>\n",
       "      <td>15 May 2025</td>\n",
       "      <td>United States</td>\n",
       "      <td>5/10 rating</td>\n",
       "      <td>✅ Trip Verified</td>\n",
       "      <td>although transferring to this flight through heathrow from budapest took almost an hour the flight crew was welcoming and friendly as we boarded at the last minute i had tried to reserve a vegetarian meal online the day before the flight but couldnt and asked sarah the head flight attendant if they might be able to provide one she not only found a delicious meal from premium economy but was especially caring and helpful throughout the flight the flight attendants also offered water and juice several times during the flight i was also impressed with the wide range of entertainment offerings which included some firstrate films</td>\n",
       "    </tr>\n",
       "    <tr>\n",
       "      <th>1</th>\n",
       "      <td>✅ Trip Verified |   We are extremely grateful to the crew of flight BA0058 from Cape Town to Heathrow. They brought us home with such a high level of professionalism, flexibility, and empathy.  Thank you so much.</td>\n",
       "      <td>8 May 2025</td>\n",
       "      <td>Switzerland</td>\n",
       "      <td>8/10 rating</td>\n",
       "      <td>✅ Trip Verified</td>\n",
       "      <td>we are extremely grateful to the crew of flight ba0058 from cape town to heathrow they brought us home with such a high level of professionalism flexibility and empathy  thank you so much</td>\n",
       "    </tr>\n",
       "    <tr>\n",
       "      <th>2</th>\n",
       "      <td>✅ Trip Verified |   I had an appalling experience with British Airways. It started when I tried to check in online but couldn’t change my seat due to repeated website errors. I arrived at the airport 4 hours early to sort it out, but the staff at the check-in counter refused to help me—brushing me off before I could even say which flight I was on, simply saying all flights were full. Incredibly rude and unprofessional. The BA lounge was overcrowded, uncomfortable, and poorly equipped—wooden utensils only and very limited seating. Shortly before boarding, I was struck with excruciating abdominal pain. Fearing a medical emergency, I asked to be offloaded. Staff at the boarding gate took my boarding pass and luggage tag, asked me to wait, and then left me sitting there in agony for 40 minutes. I eventually asked to leave to go to hospital—staff said it was fine. However, in my distress, I didn’t realise that they had taken my boarding pass with the baggage reference on it. I asked a group of wheelchair porters heading in my direction for help. None assisted me. I collapsed midway and was finally stretchered away by medics and taken to hospital. Thankfully, I received treatment and have now returned home. Since then, I’ve been trying to retrieve my luggage. Every number I’ve tried—online, via the airport, and through customer service—is either unreachable, goes to voicemail, or simply rings out. I have no idea where my bag is, and no one is helping. This is completely unacceptable from an international airline. British Airways has failed at every stage: technical support, in-person service, medical handling, and post-flight care.</td>\n",
       "      <td>29 April 2025</td>\n",
       "      <td>South Africa</td>\n",
       "      <td>10/10 rating</td>\n",
       "      <td>✅ Trip Verified</td>\n",
       "      <td>i had an appalling experience with british airways it started when i tried to check in online but couldn’t change my seat due to repeated website errors i arrived at the airport 4 hours early to sort it out but the staff at the checkin counter refused to help me—brushing me off before i could even say which flight i was on simply saying all flights were full incredibly rude and unprofessional the ba lounge was overcrowded uncomfortable and poorly equipped—wooden utensils only and very limited seating shortly before boarding i was struck with excruciating abdominal pain fearing a medical emergency i asked to be offloaded staff at the boarding gate took my boarding pass and luggage tag asked me to wait and then left me sitting there in agony for 40 minutes i eventually asked to leave to go to hospital—staff said it was fine however in my distress i didn’t realise that they had taken my boarding pass with the baggage reference on it i asked a group of wheelchair porters heading in my direction for help none assisted me i collapsed midway and was finally stretchered away by medics and taken to hospital thankfully i received treatment and have now returned home since then i’ve been trying to retrieve my luggage every number i’ve tried—online via the airport and through customer service—is either unreachable goes to voicemail or simply rings out i have no idea where my bag is and no one is helping this is completely unacceptable from an international airline british airways has failed at every stage technical support inperson service medical handling and postflight care</td>\n",
       "    </tr>\n",
       "    <tr>\n",
       "      <th>3</th>\n",
       "      <td>Not Verified |  Good points, the cabin crew, they were helpful, professional and mature, Quantity and quality of food, cleanliness of the aircraft which was spotless Picture of a pub in the forward toilet and the flight was on time. BA's T3 lounge is just not anything special, mediocre at best, food options lacking, its Gatwick &amp; T5 lounges are far more superior. On board usual poor seat pitch, the Club Europe product is inconsistent, no hot towels, menu given however food delivered on a trolley in the economy way, all the courses on one tray. No further bar offerings unless one used the call bell. Parked on remote stand at Krakow. On return Krakow - LHR Queued for twenty minutes at the Club Europe check in desk, the non-BA lounge was basic and at the late departure time of the flight, minimal food choices. On boarding Cramped into a bus and walked up on remote stand. No menus or hot towels, however meal orders taken individually and delivered direct from the Galley, seat uncomfortable, no wi-fi. Had to request tea after meal. Again inconsistency in service. The extra cost of Club Europe is hard to justify, there have been improvements in catering, however the product needs to be elevated to justify the cost.</td>\n",
       "      <td>22 April 2025</td>\n",
       "      <td>United Kingdom</td>\n",
       "      <td>3/10 rating</td>\n",
       "      <td>❌ Not Verified</td>\n",
       "      <td>good points the cabin crew they were helpful professional and mature quantity and quality of food cleanliness of the aircraft which was spotless picture of a pub in the forward toilet and the flight was on time bas t3 lounge is just not anything special mediocre at best food options lacking its gatwick  t5 lounges are far more superior on board usual poor seat pitch the club europe product is inconsistent no hot towels menu given however food delivered on a trolley in the economy way all the courses on one tray no further bar offerings unless one used the call bell parked on remote stand at krakow on return krakow  lhr queued for twenty minutes at the club europe check in desk the nonba lounge was basic and at the late departure time of the flight minimal food choices on boarding cramped into a bus and walked up on remote stand no menus or hot towels however meal orders taken individually and delivered direct from the galley seat uncomfortable no wifi had to request tea after meal again inconsistency in service the extra cost of club europe is hard to justify there have been improvements in catering however the product needs to be elevated to justify the cost</td>\n",
       "    </tr>\n",
       "    <tr>\n",
       "      <th>4</th>\n",
       "      <td>Not Verified |  It was a decent flight, reasonable comfortable seat and pilot kept us nicely informed about the flight's progress. BA serve biscuits and a small bottle of water for free. This was ok for me but sandwiches had run out from the in-flight cafe to the disappointment of passengers. Inflight wifi is limited and you have to pay to access music or programmes. BA's offering is well below that of Aegean and this level of service is not suitable for easterly destinations such as Larnaca. So I would certainly fly again with BA to Athens but only in the event Aegean has no seats or the fare is cheaper.</td>\n",
       "      <td>22 April 2025</td>\n",
       "      <td>United Kingdom</td>\n",
       "      <td>6/10 rating</td>\n",
       "      <td>❌ Not Verified</td>\n",
       "      <td>it was a decent flight reasonable comfortable seat and pilot kept us nicely informed about the flights progress ba serve biscuits and a small bottle of water for free this was ok for me but sandwiches had run out from the inflight cafe to the disappointment of passengers inflight wifi is limited and you have to pay to access music or programmes bas offering is well below that of aegean and this level of service is not suitable for easterly destinations such as larnaca so i would certainly fly again with ba to athens but only in the event aegean has no seats or the fare is cheaper</td>\n",
       "    </tr>\n",
       "    <tr>\n",
       "      <th>...</th>\n",
       "      <td>...</td>\n",
       "      <td>...</td>\n",
       "      <td>...</td>\n",
       "      <td>...</td>\n",
       "      <td>...</td>\n",
       "      <td>...</td>\n",
       "    </tr>\n",
       "    <tr>\n",
       "      <th>3495</th>\n",
       "      <td>IAH-LHR B747 which was old but sat upstairs and it made it very pleasant. They charged $129 extra to reserve a business class seat in the upper deck. Do not care for the seating of one seat forward and one backwards. The food was terrible and they did not really want to serve any drinks unless they had too. Felt like I was in economy. Nuts were in a bag and breakfast was not much better. Flight attendants not very friendly.</td>\n",
       "      <td>4 December 2014</td>\n",
       "      <td>United States</td>\n",
       "      <td>10/10 rating</td>\n",
       "      <td>❌ Not Verified</td>\n",
       "      <td>iahlhr b747 which was old but sat upstairs and it made it very pleasant they charged 129 extra to reserve a business class seat in the upper deck do not care for the seating of one seat forward and one backwards the food was terrible and they did not really want to serve any drinks unless they had too felt like i was in economy nuts were in a bag and breakfast was not much better flight attendants not very friendly</td>\n",
       "    </tr>\n",
       "    <tr>\n",
       "      <th>3496</th>\n",
       "      <td>YVR-LHR-AMS. An uneventful journey with BA but their Boeing 747 from Vancouver was a flashback to the 1990's. Dated interior with cold colours old seats that recline practically into your face making the already cramped space even more uncomfortable - you could also occasionally feel the person's knees pushing into the back of your own seat. The in-flight entertainment was equally old with a blurry screen and limited choice of entertainment. The cabin crew were courteous and friendly. Arrival and transfer in BA's Terminal 5 was very smooth and relaxing. The connecting flight to Amsterdam was a modern Airbus A319 with bright and comfortable interior/seating. Unless BA revamp their ageing 747 fleet consider fly with Virgin Air Canada or even Air Transat for the Vancouver-London route.</td>\n",
       "      <td>4 December 2014</td>\n",
       "      <td>Canada</td>\n",
       "      <td>8/10 rating</td>\n",
       "      <td>❌ Not Verified</td>\n",
       "      <td>yvrlhrams an uneventful journey with ba but their boeing 747 from vancouver was a flashback to the 1990s dated interior with cold colours old seats that recline practically into your face making the already cramped space even more uncomfortable  you could also occasionally feel the persons knees pushing into the back of your own seat the inflight entertainment was equally old with a blurry screen and limited choice of entertainment the cabin crew were courteous and friendly arrival and transfer in bas terminal 5 was very smooth and relaxing the connecting flight to amsterdam was a modern airbus a319 with bright and comfortable interiorseating unless ba revamp their ageing 747 fleet consider fly with virgin air canada or even air transat for the vancouverlondon route</td>\n",
       "    </tr>\n",
       "    <tr>\n",
       "      <th>3497</th>\n",
       "      <td>Have just completed four flights with British Airways all in Economy and all long-haul. Two were on the A380 one on the B787 and the fourth on a refurbished B777. So they all had the new seat. I find it comfortable although never seem to get the headrest really right. The seats are narrow and on busy flights your neighbours can be rather close. At 1.83m the leg room and spacing was fine although some seats do have restrictions with the entertainment system. The 380 and 787 are very quiet which makes the toilets sound nosier should you be near them. On the upper deck of the 380 the overhead bin space in the back economy section is woefully inadequate. I'm sure it was never planned for economy seating. Food ok - my special meals came as ordered. Flights on time or early and staff helpful and pleasant. Heathrow T5 can be a problem depending on when you travel and the main section (A) can get very busy as people wait to learn the gate details.</td>\n",
       "      <td>4 December 2014</td>\n",
       "      <td>South Africa</td>\n",
       "      <td>5/10 rating</td>\n",
       "      <td>❌ Not Verified</td>\n",
       "      <td>have just completed four flights with british airways all in economy and all longhaul two were on the a380 one on the b787 and the fourth on a refurbished b777 so they all had the new seat i find it comfortable although never seem to get the headrest really right the seats are narrow and on busy flights your neighbours can be rather close at 183m the leg room and spacing was fine although some seats do have restrictions with the entertainment system the 380 and 787 are very quiet which makes the toilets sound nosier should you be near them on the upper deck of the 380 the overhead bin space in the back economy section is woefully inadequate im sure it was never planned for economy seating food ok  my special meals came as ordered flights on time or early and staff helpful and pleasant heathrow t5 can be a problem depending on when you travel and the main section a can get very busy as people wait to learn the gate details</td>\n",
       "    </tr>\n",
       "    <tr>\n",
       "      <th>3498</th>\n",
       "      <td>British Airways for some reason was incapable of seating me next to my husband during our recent 8 hour flight. We made the reservation many months ago attempted several times to select seats and were told we could not do so in advance but needed to wait until we got to the airport. This was our first time flying with them and every other airline we have ever flown has allowed us to sit together. It is usually assumed that if we are married and making the reservation together at the same time using one credit card and paying a lot for the trip that we actually want to sit next to each other. When we tried to change our seats to be together all representatives said being separated was typical. Which is strange because then you have a plane full of families that have been physically separated for no apparent reason. While it's always fun to meet new strangers we will not be flying with British Airways again.</td>\n",
       "      <td>4 December 2014</td>\n",
       "      <td>United States</td>\n",
       "      <td>9/10 rating</td>\n",
       "      <td>❌ Not Verified</td>\n",
       "      <td>british airways for some reason was incapable of seating me next to my husband during our recent 8 hour flight we made the reservation many months ago attempted several times to select seats and were told we could not do so in advance but needed to wait until we got to the airport this was our first time flying with them and every other airline we have ever flown has allowed us to sit together it is usually assumed that if we are married and making the reservation together at the same time using one credit card and paying a lot for the trip that we actually want to sit next to each other when we tried to change our seats to be together all representatives said being separated was typical which is strange because then you have a plane full of families that have been physically separated for no apparent reason while its always fun to meet new strangers we will not be flying with british airways again</td>\n",
       "    </tr>\n",
       "    <tr>\n",
       "      <th>3499</th>\n",
       "      <td>BA216 from Washington to London in World Traveller Plus on BA's new A380 (upper level) - one of the smoothest quietest flights I've experienced in 45 years of flying. Practically everything went off perfectly - less jet noise than on other aircraft decent food great leg-room and seat width a relaxing cabin layout and a top-notch cabin crew (no rating for entertainment since apart from the flight tracker I don't use it) - even the boarding and disembarkation despite being on two levels seemed more orderly than in the past on other aircraft. A success all round.</td>\n",
       "      <td>4 December 2014</td>\n",
       "      <td>United States</td>\n",
       "      <td>5/10 rating</td>\n",
       "      <td>❌ Not Verified</td>\n",
       "      <td>ba216 from washington to london in world traveller plus on bas new a380 upper level  one of the smoothest quietest flights ive experienced in 45 years of flying practically everything went off perfectly  less jet noise than on other aircraft decent food great legroom and seat width a relaxing cabin layout and a topnotch cabin crew no rating for entertainment since apart from the flight tracker i dont use it  even the boarding and disembarkation despite being on two levels seemed more orderly than in the past on other aircraft a success all round</td>\n",
       "    </tr>\n",
       "  </tbody>\n",
       "</table>\n",
       "<p>3499 rows × 6 columns</p>\n",
       "</div>"
      ],
      "text/plain": [
       "                                                                                                                                                                                                                                                                                                                                                                                                                                                                                                                                                                                                                                                                                                                                                                                                                                                                                                                                                                                                                                                                                                                                                                                                                                                                                                                                                                                                                                                                                                                                                                                                                                                                                                                     Review             Date         Country        Rating         Verified                                                                                                                                                                                                                                                                                                                                                                                                                                                                                                                                                                                                                                                                                                                                                                                                                                                                                                                                                                                                                                                                                                                                                                                                                                                                                                                                                                                                                                                                                                                                                                                                                                          Cleaned_Review\n",
       "0                                                                                                                                                                                                                                                                                                                                                                                                                                                                                                                                                                                                                                                                                                                                                                                                                                                                                                                                                                                                                                  ✅ Trip Verified | Although transferring to this flight through Heathrow from Budapest took almost an hour, the flight crew was welcoming and friendly as we boarded at the last minute. I had tried to reserve a vegetarian meal online the day before the flight but couldn't, and asked Sarah, the head flight attendant, if they might be able to provide one. She not only found a delicious meal from Premium, Economy, but was especially caring and helpful throughout the flight. The flight attendants also offered water and juice several times during the flight. I was also impressed with the wide range of entertainment offerings, which included some first-rate films.      15 May 2025   United States   5/10 rating  ✅ Trip Verified                                                                                                                                                                                                                                                                                                                                                                                                                                                                                                                                                                                                                                                                                                                                                                                                                                                                                                                                                                                                although transferring to this flight through heathrow from budapest took almost an hour the flight crew was welcoming and friendly as we boarded at the last minute i had tried to reserve a vegetarian meal online the day before the flight but couldnt and asked sarah the head flight attendant if they might be able to provide one she not only found a delicious meal from premium economy but was especially caring and helpful throughout the flight the flight attendants also offered water and juice several times during the flight i was also impressed with the wide range of entertainment offerings which included some firstrate films\n",
       "1                                                                                                                                                                                                                                                                                                                                                                                                                                                                                                                                                                                                                                                                                                                                                                                                                                                                                                                                                                                                                                                                                                                                                                                                                                                                                                                                                                                                                                                                                                      ✅ Trip Verified |   We are extremely grateful to the crew of flight BA0058 from Cape Town to Heathrow. They brought us home with such a high level of professionalism, flexibility, and empathy.  Thank you so much.       8 May 2025     Switzerland   8/10 rating  ✅ Trip Verified                                                                                                                                                                                                                                                                                                                                                                                                                                                                                                                                                                                                                                                                                                                                                                                                                                                                                                                                                                                                                                                                                                                                                                                                                                                                                                                                                                                                                                                             we are extremely grateful to the crew of flight ba0058 from cape town to heathrow they brought us home with such a high level of professionalism flexibility and empathy  thank you so much\n",
       "2     ✅ Trip Verified |   I had an appalling experience with British Airways. It started when I tried to check in online but couldn’t change my seat due to repeated website errors. I arrived at the airport 4 hours early to sort it out, but the staff at the check-in counter refused to help me—brushing me off before I could even say which flight I was on, simply saying all flights were full. Incredibly rude and unprofessional. The BA lounge was overcrowded, uncomfortable, and poorly equipped—wooden utensils only and very limited seating. Shortly before boarding, I was struck with excruciating abdominal pain. Fearing a medical emergency, I asked to be offloaded. Staff at the boarding gate took my boarding pass and luggage tag, asked me to wait, and then left me sitting there in agony for 40 minutes. I eventually asked to leave to go to hospital—staff said it was fine. However, in my distress, I didn’t realise that they had taken my boarding pass with the baggage reference on it. I asked a group of wheelchair porters heading in my direction for help. None assisted me. I collapsed midway and was finally stretchered away by medics and taken to hospital. Thankfully, I received treatment and have now returned home. Since then, I’ve been trying to retrieve my luggage. Every number I’ve tried—online, via the airport, and through customer service—is either unreachable, goes to voicemail, or simply rings out. I have no idea where my bag is, and no one is helping. This is completely unacceptable from an international airline. British Airways has failed at every stage: technical support, in-person service, medical handling, and post-flight care.    29 April 2025    South Africa  10/10 rating  ✅ Trip Verified  i had an appalling experience with british airways it started when i tried to check in online but couldn’t change my seat due to repeated website errors i arrived at the airport 4 hours early to sort it out but the staff at the checkin counter refused to help me—brushing me off before i could even say which flight i was on simply saying all flights were full incredibly rude and unprofessional the ba lounge was overcrowded uncomfortable and poorly equipped—wooden utensils only and very limited seating shortly before boarding i was struck with excruciating abdominal pain fearing a medical emergency i asked to be offloaded staff at the boarding gate took my boarding pass and luggage tag asked me to wait and then left me sitting there in agony for 40 minutes i eventually asked to leave to go to hospital—staff said it was fine however in my distress i didn’t realise that they had taken my boarding pass with the baggage reference on it i asked a group of wheelchair porters heading in my direction for help none assisted me i collapsed midway and was finally stretchered away by medics and taken to hospital thankfully i received treatment and have now returned home since then i’ve been trying to retrieve my luggage every number i’ve tried—online via the airport and through customer service—is either unreachable goes to voicemail or simply rings out i have no idea where my bag is and no one is helping this is completely unacceptable from an international airline british airways has failed at every stage technical support inperson service medical handling and postflight care\n",
       "3                                                                                                                                                                                                                                                                                                                                                                                                                                              Not Verified |  Good points, the cabin crew, they were helpful, professional and mature, Quantity and quality of food, cleanliness of the aircraft which was spotless Picture of a pub in the forward toilet and the flight was on time. BA's T3 lounge is just not anything special, mediocre at best, food options lacking, its Gatwick & T5 lounges are far more superior. On board usual poor seat pitch, the Club Europe product is inconsistent, no hot towels, menu given however food delivered on a trolley in the economy way, all the courses on one tray. No further bar offerings unless one used the call bell. Parked on remote stand at Krakow. On return Krakow - LHR Queued for twenty minutes at the Club Europe check in desk, the non-BA lounge was basic and at the late departure time of the flight, minimal food choices. On boarding Cramped into a bus and walked up on remote stand. No menus or hot towels, however meal orders taken individually and delivered direct from the Galley, seat uncomfortable, no wi-fi. Had to request tea after meal. Again inconsistency in service. The extra cost of Club Europe is hard to justify, there have been improvements in catering, however the product needs to be elevated to justify the cost.    22 April 2025  United Kingdom   3/10 rating   ❌ Not Verified                                                                                                                                                                                                                                                                                                                                                                                                                               good points the cabin crew they were helpful professional and mature quantity and quality of food cleanliness of the aircraft which was spotless picture of a pub in the forward toilet and the flight was on time bas t3 lounge is just not anything special mediocre at best food options lacking its gatwick  t5 lounges are far more superior on board usual poor seat pitch the club europe product is inconsistent no hot towels menu given however food delivered on a trolley in the economy way all the courses on one tray no further bar offerings unless one used the call bell parked on remote stand at krakow on return krakow  lhr queued for twenty minutes at the club europe check in desk the nonba lounge was basic and at the late departure time of the flight minimal food choices on boarding cramped into a bus and walked up on remote stand no menus or hot towels however meal orders taken individually and delivered direct from the galley seat uncomfortable no wifi had to request tea after meal again inconsistency in service the extra cost of club europe is hard to justify there have been improvements in catering however the product needs to be elevated to justify the cost\n",
       "4                                                                                                                                                                                                                                                                                                                                                                                                                                                                                                                                                                                                                                                                                                                                                                                                                                                                                                                                                                                                                                                                                      Not Verified |  It was a decent flight, reasonable comfortable seat and pilot kept us nicely informed about the flight's progress. BA serve biscuits and a small bottle of water for free. This was ok for me but sandwiches had run out from the in-flight cafe to the disappointment of passengers. Inflight wifi is limited and you have to pay to access music or programmes. BA's offering is well below that of Aegean and this level of service is not suitable for easterly destinations such as Larnaca. So I would certainly fly again with BA to Athens but only in the event Aegean has no seats or the fare is cheaper.    22 April 2025  United Kingdom   6/10 rating   ❌ Not Verified                                                                                                                                                                                                                                                                                                                                                                                                                                                                                                                                                                                                                                                                                                                                                                                                                                                                                                                                                                                                                                              it was a decent flight reasonable comfortable seat and pilot kept us nicely informed about the flights progress ba serve biscuits and a small bottle of water for free this was ok for me but sandwiches had run out from the inflight cafe to the disappointment of passengers inflight wifi is limited and you have to pay to access music or programmes bas offering is well below that of aegean and this level of service is not suitable for easterly destinations such as larnaca so i would certainly fly again with ba to athens but only in the event aegean has no seats or the fare is cheaper\n",
       "...                                                                                                                                                                                                                                                                                                                                                                                                                                                                                                                                                                                                                                                                                                                                                                                                                                                                                                                                                                                                                                                                                                                                                                                                                                                                                                                                                                                                                                                                                                                                                                                                                                                                                                                     ...              ...             ...           ...              ...                                                                                                                                                                                                                                                                                                                                                                                                                                                                                                                                                                                                                                                                                                                                                                                                                                                                                                                                                                                                                                                                                                                                                                                                                                                                                                                                                                                                                                                                                                                                                                                                                                                     ...\n",
       "3495                                                                                                                                                                                                                                                                                                                                                                                                                                                                                                                                                                                                                                                                                                                                                                                                                                                                                                                                                                                                                                                                                                                                                                                                                                                                            IAH-LHR B747 which was old but sat upstairs and it made it very pleasant. They charged $129 extra to reserve a business class seat in the upper deck. Do not care for the seating of one seat forward and one backwards. The food was terrible and they did not really want to serve any drinks unless they had too. Felt like I was in economy. Nuts were in a bag and breakfast was not much better. Flight attendants not very friendly.  4 December 2014   United States  10/10 rating   ❌ Not Verified                                                                                                                                                                                                                                                                                                                                                                                                                                                                                                                                                                                                                                                                                                                                                                                                                                                                                                                                                                                                                                                                                                                                                                                                                      iahlhr b747 which was old but sat upstairs and it made it very pleasant they charged 129 extra to reserve a business class seat in the upper deck do not care for the seating of one seat forward and one backwards the food was terrible and they did not really want to serve any drinks unless they had too felt like i was in economy nuts were in a bag and breakfast was not much better flight attendants not very friendly\n",
       "3496                                                                                                                                                                                                                                                                                                                                                                                                                                                                                                                                                                                                                                                                                                                                                                                                                                                                                              YVR-LHR-AMS. An uneventful journey with BA but their Boeing 747 from Vancouver was a flashback to the 1990's. Dated interior with cold colours old seats that recline practically into your face making the already cramped space even more uncomfortable - you could also occasionally feel the person's knees pushing into the back of your own seat. The in-flight entertainment was equally old with a blurry screen and limited choice of entertainment. The cabin crew were courteous and friendly. Arrival and transfer in BA's Terminal 5 was very smooth and relaxing. The connecting flight to Amsterdam was a modern Airbus A319 with bright and comfortable interior/seating. Unless BA revamp their ageing 747 fleet consider fly with Virgin Air Canada or even Air Transat for the Vancouver-London route.  4 December 2014          Canada   8/10 rating   ❌ Not Verified                                                                                                                                                                                                                                                                                                                                                                                                                                                                                                                                                                                                                                                                                                                                                                                                                                                yvrlhrams an uneventful journey with ba but their boeing 747 from vancouver was a flashback to the 1990s dated interior with cold colours old seats that recline practically into your face making the already cramped space even more uncomfortable  you could also occasionally feel the persons knees pushing into the back of your own seat the inflight entertainment was equally old with a blurry screen and limited choice of entertainment the cabin crew were courteous and friendly arrival and transfer in bas terminal 5 was very smooth and relaxing the connecting flight to amsterdam was a modern airbus a319 with bright and comfortable interiorseating unless ba revamp their ageing 747 fleet consider fly with virgin air canada or even air transat for the vancouverlondon route\n",
       "3497                                                                                                                                                                                                                                                                                                                                                                                                                                                                                                                                                                                                                                                                                                                              Have just completed four flights with British Airways all in Economy and all long-haul. Two were on the A380 one on the B787 and the fourth on a refurbished B777. So they all had the new seat. I find it comfortable although never seem to get the headrest really right. The seats are narrow and on busy flights your neighbours can be rather close. At 1.83m the leg room and spacing was fine although some seats do have restrictions with the entertainment system. The 380 and 787 are very quiet which makes the toilets sound nosier should you be near them. On the upper deck of the 380 the overhead bin space in the back economy section is woefully inadequate. I'm sure it was never planned for economy seating. Food ok - my special meals came as ordered. Flights on time or early and staff helpful and pleasant. Heathrow T5 can be a problem depending on when you travel and the main section (A) can get very busy as people wait to learn the gate details.  4 December 2014    South Africa   5/10 rating   ❌ Not Verified                                                                                                                                                                                                                                                                                                                                                                                                                                                                                                                                                                                                                                                                                 have just completed four flights with british airways all in economy and all longhaul two were on the a380 one on the b787 and the fourth on a refurbished b777 so they all had the new seat i find it comfortable although never seem to get the headrest really right the seats are narrow and on busy flights your neighbours can be rather close at 183m the leg room and spacing was fine although some seats do have restrictions with the entertainment system the 380 and 787 are very quiet which makes the toilets sound nosier should you be near them on the upper deck of the 380 the overhead bin space in the back economy section is woefully inadequate im sure it was never planned for economy seating food ok  my special meals came as ordered flights on time or early and staff helpful and pleasant heathrow t5 can be a problem depending on when you travel and the main section a can get very busy as people wait to learn the gate details\n",
       "3498                                                                                                                                                                                                                                                                                                                                                                                                                                                                                                                                                                                                                                                                                                                                                                British Airways for some reason was incapable of seating me next to my husband during our recent 8 hour flight. We made the reservation many months ago attempted several times to select seats and were told we could not do so in advance but needed to wait until we got to the airport. This was our first time flying with them and every other airline we have ever flown has allowed us to sit together. It is usually assumed that if we are married and making the reservation together at the same time using one credit card and paying a lot for the trip that we actually want to sit next to each other. When we tried to change our seats to be together all representatives said being separated was typical. Which is strange because then you have a plane full of families that have been physically separated for no apparent reason. While it's always fun to meet new strangers we will not be flying with British Airways again.  4 December 2014   United States   9/10 rating   ❌ Not Verified                                                                                                                                                                                                                                                                                                                                                                                                                                                                                                                                                                                                                                                                                                         british airways for some reason was incapable of seating me next to my husband during our recent 8 hour flight we made the reservation many months ago attempted several times to select seats and were told we could not do so in advance but needed to wait until we got to the airport this was our first time flying with them and every other airline we have ever flown has allowed us to sit together it is usually assumed that if we are married and making the reservation together at the same time using one credit card and paying a lot for the trip that we actually want to sit next to each other when we tried to change our seats to be together all representatives said being separated was typical which is strange because then you have a plane full of families that have been physically separated for no apparent reason while its always fun to meet new strangers we will not be flying with british airways again\n",
       "3499                                                                                                                                                                                                                                                                                                                                                                                                                                                                                                                                                                                                                                                                                                                                                                                                                                                                                                                                                                                                                                                                                                                                 BA216 from Washington to London in World Traveller Plus on BA's new A380 (upper level) - one of the smoothest quietest flights I've experienced in 45 years of flying. Practically everything went off perfectly - less jet noise than on other aircraft decent food great leg-room and seat width a relaxing cabin layout and a top-notch cabin crew (no rating for entertainment since apart from the flight tracker I don't use it) - even the boarding and disembarkation despite being on two levels seemed more orderly than in the past on other aircraft. A success all round.  4 December 2014   United States   5/10 rating   ❌ Not Verified                                                                                                                                                                                                                                                                                                                                                                                                                                                                                                                                                                                                                                                                                                                                                                                                                                                                                                                                                                                                                                                                                 ba216 from washington to london in world traveller plus on bas new a380 upper level  one of the smoothest quietest flights ive experienced in 45 years of flying practically everything went off perfectly  less jet noise than on other aircraft decent food great legroom and seat width a relaxing cabin layout and a topnotch cabin crew no rating for entertainment since apart from the flight tracker i dont use it  even the boarding and disembarkation despite being on two levels seemed more orderly than in the past on other aircraft a success all round\n",
       "\n",
       "[3499 rows x 6 columns]"
      ]
     },
     "execution_count": 140,
     "metadata": {},
     "output_type": "execute_result"
    }
   ],
   "source": [
    "df"
   ]
  },
  {
   "cell_type": "code",
   "execution_count": 143,
   "id": "cf8d4c39-01d1-45f0-a9d6-341b7fb3bcf1",
   "metadata": {},
   "outputs": [
    {
     "data": {
      "text/plain": [
       "np.int64(0)"
      ]
     },
     "execution_count": 143,
     "metadata": {},
     "output_type": "execute_result"
    }
   ],
   "source": [
    "df['Cleaned_Review'].isnull().sum()  # should be 0"
   ]
  },
  {
   "cell_type": "code",
   "execution_count": 144,
   "id": "8979830b-dbc8-4092-a1a3-43037d0f5ff1",
   "metadata": {},
   "outputs": [],
   "source": [
    "df.to_csv(\"data/Data_Cleaning.csv\")"
   ]
  },
  {
   "cell_type": "markdown",
   "id": "b45baf32-cdc0-4636-95fd-d07c6c5fcc1d",
   "metadata": {},
   "source": [
    "## Completed Cleaning in the EDA Notebook"
   ]
  }
 ],
 "metadata": {
  "kernelspec": {
   "display_name": "Python 3 (ipykernel)",
   "language": "python",
   "name": "python3"
  },
  "language_info": {
   "codemirror_mode": {
    "name": "ipython",
    "version": 3
   },
   "file_extension": ".py",
   "mimetype": "text/x-python",
   "name": "python",
   "nbconvert_exporter": "python",
   "pygments_lexer": "ipython3",
   "version": "3.13.3"
  }
 },
 "nbformat": 4,
 "nbformat_minor": 5
}
