{
 "cells": [
  {
   "cell_type": "markdown",
   "metadata": {},
   "source": [
    "##   Scraping data from Skytrax - Task 1"
   ]
  },
  {
   "cell_type": "code",
   "execution_count": 5,
   "metadata": {},
   "outputs": [],
   "source": [
    "# importing the libraries\n",
    "import requests\n",
    "from bs4 import BeautifulSoup\n",
    "import numpy as np\n",
    "import pandas as pd\n",
    "import os"
   ]
  },
  {
   "cell_type": "code",
   "execution_count": 6,
   "metadata": {
    "scrolled": true
   },
   "outputs": [],
   "source": [
    "# looping the cols i need from the website\n",
    "countries = []\n",
    "dates = []\n",
    "reviews = []\n",
    "ratings = []\n",
    "\n",
    "for i in range(1, 36):\n",
    "    page = requests.get(f\"https://www.airlinequality.com/airline-reviews/british-airways/page/{i}/?sortby=post_date%3ADesc&pagesize=100\")\n",
    "    \n",
    "    soup = BeautifulSoup(page.content, \"html.parser\")\n",
    "\n",
    "    # Country\n",
    "    for item in soup.find_all(\"h3\"):\n",
    "        if item.span and item.span.next_sibling:\n",
    "            countries.append(item.span.next_sibling.text.strip(\" ()\"))\n",
    "        else:\n",
    "            countries.append(\"Unknown\")\n",
    "\n",
    "    # Date\n",
    "    for item in soup.find_all(\"time\"):\n",
    "        dates.append(item.text.strip())\n",
    "\n",
    "    # Reviews\n",
    "    for item in soup.find_all(\"div\", class_=\"text_content\"):\n",
    "        reviews.append(item.text.strip())\n",
    "    # Ratings\n",
    "    for item in soup.find_all(\"div\", class_=\"rating-10\"):\n",
    "        ratings.append(item.text.strip())"
   ]
  },
  {
   "cell_type": "code",
   "execution_count": 7,
   "metadata": {
    "scrolled": true
   },
   "outputs": [
    {
     "data": {
      "text/plain": [
       "3500"
      ]
     },
     "execution_count": 7,
     "metadata": {},
     "output_type": "execute_result"
    }
   ],
   "source": [
    "len(reviews)"
   ]
  },
  {
   "cell_type": "code",
   "execution_count": 8,
   "metadata": {},
   "outputs": [
    {
     "data": {
      "text/plain": [
       "3500"
      ]
     },
     "execution_count": 8,
     "metadata": {},
     "output_type": "execute_result"
    }
   ],
   "source": [
    "len(countries)\n"
   ]
  },
  {
   "cell_type": "code",
   "execution_count": 9,
   "metadata": {
    "scrolled": true
   },
   "outputs": [
    {
     "data": {
      "text/plain": [
       "3500"
      ]
     },
     "execution_count": 9,
     "metadata": {},
     "output_type": "execute_result"
    }
   ],
   "source": [
    "len(dates)"
   ]
  },
  {
   "cell_type": "code",
   "execution_count": 10,
   "metadata": {},
   "outputs": [
    {
     "data": {
      "text/plain": [
       "3535"
      ]
     },
     "execution_count": 10,
     "metadata": {},
     "output_type": "execute_result"
    }
   ],
   "source": [
    "len(ratings)"
   ]
  },
  {
   "cell_type": "code",
   "execution_count": 11,
   "metadata": {},
   "outputs": [],
   "source": [
    "# trimming the ratings col to 3500 rows for column consistency\n",
    "ratings = ratings[:3500] + [\"No Rating\"] * (3500 - len(ratings))"
   ]
  },
  {
   "cell_type": "code",
   "execution_count": 12,
   "metadata": {},
   "outputs": [],
   "source": [
    "# structuring the cols and ing a pd df from the lists above\n",
    "df = pd.DataFrame({\n",
    "    \"Review\": reviews,\n",
    "    \"Date\": dates,\n",
    "    \"Country\": countries,\n",
    "    \"Rating\": ratings\n",
    "})\n"
   ]
  },
  {
   "cell_type": "code",
   "execution_count": 13,
   "metadata": {
    "scrolled": true
   },
   "outputs": [
    {
     "data": {
      "text/html": [
       "<div>\n",
       "<style scoped>\n",
       "    .dataframe tbody tr th:only-of-type {\n",
       "        vertical-align: middle;\n",
       "    }\n",
       "\n",
       "    .dataframe tbody tr th {\n",
       "        vertical-align: top;\n",
       "    }\n",
       "\n",
       "    .dataframe thead th {\n",
       "        text-align: right;\n",
       "    }\n",
       "</style>\n",
       "<table border=\"1\" class=\"dataframe\">\n",
       "  <thead>\n",
       "    <tr style=\"text-align: right;\">\n",
       "      <th></th>\n",
       "      <th>Review</th>\n",
       "      <th>Date</th>\n",
       "      <th>Country</th>\n",
       "      <th>Rating</th>\n",
       "    </tr>\n",
       "  </thead>\n",
       "  <tbody>\n",
       "    <tr>\n",
       "      <th>0</th>\n",
       "      <td>✅ Trip Verified |   Check-in was slow with onl...</td>\n",
       "      <td>20th May 2025</td>\n",
       "      <td>Australia</td>\n",
       "      <td>5/10</td>\n",
       "    </tr>\n",
       "    <tr>\n",
       "      <th>1</th>\n",
       "      <td>Not Verified |  Check in was smooth enough. Bo...</td>\n",
       "      <td>18th May 2025</td>\n",
       "      <td>United Kingdom</td>\n",
       "      <td>6/10</td>\n",
       "    </tr>\n",
       "    <tr>\n",
       "      <th>2</th>\n",
       "      <td>✅ Trip Verified | Although transferring to thi...</td>\n",
       "      <td>15th May 2025</td>\n",
       "      <td>United States</td>\n",
       "      <td>4/10</td>\n",
       "    </tr>\n",
       "    <tr>\n",
       "      <th>3</th>\n",
       "      <td>✅ Trip Verified |   We are extremely grateful ...</td>\n",
       "      <td>8th May 2025</td>\n",
       "      <td>Switzerland</td>\n",
       "      <td>8/10</td>\n",
       "    </tr>\n",
       "    <tr>\n",
       "      <th>4</th>\n",
       "      <td>✅ Trip Verified |   I had an appalling experie...</td>\n",
       "      <td>29th April 2025</td>\n",
       "      <td>South Africa</td>\n",
       "      <td>10/10</td>\n",
       "    </tr>\n",
       "    <tr>\n",
       "      <th>...</th>\n",
       "      <td>...</td>\n",
       "      <td>...</td>\n",
       "      <td>...</td>\n",
       "      <td>...</td>\n",
       "    </tr>\n",
       "    <tr>\n",
       "      <th>3495</th>\n",
       "      <td>LAX-LHR-LAX on the A380.The first thing I noti...</td>\n",
       "      <td>10th December 2014</td>\n",
       "      <td>United States</td>\n",
       "      <td>5/10</td>\n",
       "    </tr>\n",
       "    <tr>\n",
       "      <th>3496</th>\n",
       "      <td>Phoenix to London - outbound a wonderful and e...</td>\n",
       "      <td>10th December 2014</td>\n",
       "      <td>United States</td>\n",
       "      <td>3/10</td>\n",
       "    </tr>\n",
       "    <tr>\n",
       "      <th>3497</th>\n",
       "      <td>BA216 from Washington to London in World Trave...</td>\n",
       "      <td>4th December 2014</td>\n",
       "      <td>United States</td>\n",
       "      <td>7/10</td>\n",
       "    </tr>\n",
       "    <tr>\n",
       "      <th>3498</th>\n",
       "      <td>LHR-BGO on A319. Flight on time and only half ...</td>\n",
       "      <td>4th December 2014</td>\n",
       "      <td>United Kingdom</td>\n",
       "      <td>1/10</td>\n",
       "    </tr>\n",
       "    <tr>\n",
       "      <th>3499</th>\n",
       "      <td>LHR-SFO-LHR. Out in economy and return in econ...</td>\n",
       "      <td>4th December 2014</td>\n",
       "      <td>United Kingdom</td>\n",
       "      <td>7/10</td>\n",
       "    </tr>\n",
       "  </tbody>\n",
       "</table>\n",
       "<p>3500 rows × 4 columns</p>\n",
       "</div>"
      ],
      "text/plain": [
       "                                                 Review                Date  \\\n",
       "0     ✅ Trip Verified |   Check-in was slow with onl...       20th May 2025   \n",
       "1     Not Verified |  Check in was smooth enough. Bo...       18th May 2025   \n",
       "2     ✅ Trip Verified | Although transferring to thi...       15th May 2025   \n",
       "3     ✅ Trip Verified |   We are extremely grateful ...        8th May 2025   \n",
       "4     ✅ Trip Verified |   I had an appalling experie...     29th April 2025   \n",
       "...                                                 ...                 ...   \n",
       "3495  LAX-LHR-LAX on the A380.The first thing I noti...  10th December 2014   \n",
       "3496  Phoenix to London - outbound a wonderful and e...  10th December 2014   \n",
       "3497  BA216 from Washington to London in World Trave...   4th December 2014   \n",
       "3498  LHR-BGO on A319. Flight on time and only half ...   4th December 2014   \n",
       "3499  LHR-SFO-LHR. Out in economy and return in econ...   4th December 2014   \n",
       "\n",
       "             Country Rating  \n",
       "0          Australia   5/10  \n",
       "1     United Kingdom   6/10  \n",
       "2      United States   4/10  \n",
       "3        Switzerland   8/10  \n",
       "4       South Africa  10/10  \n",
       "...              ...    ...  \n",
       "3495   United States   5/10  \n",
       "3496   United States   3/10  \n",
       "3497   United States   7/10  \n",
       "3498  United Kingdom   1/10  \n",
       "3499  United Kingdom   7/10  \n",
       "\n",
       "[3500 rows x 4 columns]"
      ]
     },
     "execution_count": 13,
     "metadata": {},
     "output_type": "execute_result"
    }
   ],
   "source": [
    "df"
   ]
  },
  {
   "cell_type": "code",
   "execution_count": 14,
   "metadata": {},
   "outputs": [],
   "source": [
    "# saving the df to csv file\n",
    "df[\"Rating\"] = df[\"Rating\"].apply(lambda x: f\"{x} rating\") # modifying the Ratings col\n",
    "df.to_csv(\"data/Web_Scraping.csv\", index=False)"
   ]
  },
  {
   "cell_type": "code",
   "execution_count": 15,
   "metadata": {},
   "outputs": [
    {
     "data": {
      "text/html": [
       "<div>\n",
       "<style scoped>\n",
       "    .dataframe tbody tr th:only-of-type {\n",
       "        vertical-align: middle;\n",
       "    }\n",
       "\n",
       "    .dataframe tbody tr th {\n",
       "        vertical-align: top;\n",
       "    }\n",
       "\n",
       "    .dataframe thead th {\n",
       "        text-align: right;\n",
       "    }\n",
       "</style>\n",
       "<table border=\"1\" class=\"dataframe\">\n",
       "  <thead>\n",
       "    <tr style=\"text-align: right;\">\n",
       "      <th></th>\n",
       "      <th>Review</th>\n",
       "      <th>Date</th>\n",
       "      <th>Country</th>\n",
       "      <th>Rating</th>\n",
       "    </tr>\n",
       "  </thead>\n",
       "  <tbody>\n",
       "    <tr>\n",
       "      <th>0</th>\n",
       "      <td>✅ Trip Verified |   Check-in was slow with onl...</td>\n",
       "      <td>20th May 2025</td>\n",
       "      <td>Australia</td>\n",
       "      <td>5/10 rating</td>\n",
       "    </tr>\n",
       "    <tr>\n",
       "      <th>1</th>\n",
       "      <td>Not Verified |  Check in was smooth enough. Bo...</td>\n",
       "      <td>18th May 2025</td>\n",
       "      <td>United Kingdom</td>\n",
       "      <td>6/10 rating</td>\n",
       "    </tr>\n",
       "    <tr>\n",
       "      <th>2</th>\n",
       "      <td>✅ Trip Verified | Although transferring to thi...</td>\n",
       "      <td>15th May 2025</td>\n",
       "      <td>United States</td>\n",
       "      <td>4/10 rating</td>\n",
       "    </tr>\n",
       "    <tr>\n",
       "      <th>3</th>\n",
       "      <td>✅ Trip Verified |   We are extremely grateful ...</td>\n",
       "      <td>8th May 2025</td>\n",
       "      <td>Switzerland</td>\n",
       "      <td>8/10 rating</td>\n",
       "    </tr>\n",
       "    <tr>\n",
       "      <th>4</th>\n",
       "      <td>✅ Trip Verified |   I had an appalling experie...</td>\n",
       "      <td>29th April 2025</td>\n",
       "      <td>South Africa</td>\n",
       "      <td>10/10 rating</td>\n",
       "    </tr>\n",
       "    <tr>\n",
       "      <th>...</th>\n",
       "      <td>...</td>\n",
       "      <td>...</td>\n",
       "      <td>...</td>\n",
       "      <td>...</td>\n",
       "    </tr>\n",
       "    <tr>\n",
       "      <th>3495</th>\n",
       "      <td>LAX-LHR-LAX on the A380.The first thing I noti...</td>\n",
       "      <td>10th December 2014</td>\n",
       "      <td>United States</td>\n",
       "      <td>5/10 rating</td>\n",
       "    </tr>\n",
       "    <tr>\n",
       "      <th>3496</th>\n",
       "      <td>Phoenix to London - outbound a wonderful and e...</td>\n",
       "      <td>10th December 2014</td>\n",
       "      <td>United States</td>\n",
       "      <td>3/10 rating</td>\n",
       "    </tr>\n",
       "    <tr>\n",
       "      <th>3497</th>\n",
       "      <td>BA216 from Washington to London in World Trave...</td>\n",
       "      <td>4th December 2014</td>\n",
       "      <td>United States</td>\n",
       "      <td>7/10 rating</td>\n",
       "    </tr>\n",
       "    <tr>\n",
       "      <th>3498</th>\n",
       "      <td>LHR-BGO on A319. Flight on time and only half ...</td>\n",
       "      <td>4th December 2014</td>\n",
       "      <td>United Kingdom</td>\n",
       "      <td>1/10 rating</td>\n",
       "    </tr>\n",
       "    <tr>\n",
       "      <th>3499</th>\n",
       "      <td>LHR-SFO-LHR. Out in economy and return in econ...</td>\n",
       "      <td>4th December 2014</td>\n",
       "      <td>United Kingdom</td>\n",
       "      <td>7/10 rating</td>\n",
       "    </tr>\n",
       "  </tbody>\n",
       "</table>\n",
       "<p>3500 rows × 4 columns</p>\n",
       "</div>"
      ],
      "text/plain": [
       "                                                 Review                Date  \\\n",
       "0     ✅ Trip Verified |   Check-in was slow with onl...       20th May 2025   \n",
       "1     Not Verified |  Check in was smooth enough. Bo...       18th May 2025   \n",
       "2     ✅ Trip Verified | Although transferring to thi...       15th May 2025   \n",
       "3     ✅ Trip Verified |   We are extremely grateful ...        8th May 2025   \n",
       "4     ✅ Trip Verified |   I had an appalling experie...     29th April 2025   \n",
       "...                                                 ...                 ...   \n",
       "3495  LAX-LHR-LAX on the A380.The first thing I noti...  10th December 2014   \n",
       "3496  Phoenix to London - outbound a wonderful and e...  10th December 2014   \n",
       "3497  BA216 from Washington to London in World Trave...   4th December 2014   \n",
       "3498  LHR-BGO on A319. Flight on time and only half ...   4th December 2014   \n",
       "3499  LHR-SFO-LHR. Out in economy and return in econ...   4th December 2014   \n",
       "\n",
       "             Country        Rating  \n",
       "0          Australia   5/10 rating  \n",
       "1     United Kingdom   6/10 rating  \n",
       "2      United States   4/10 rating  \n",
       "3        Switzerland   8/10 rating  \n",
       "4       South Africa  10/10 rating  \n",
       "...              ...           ...  \n",
       "3495   United States   5/10 rating  \n",
       "3496   United States   3/10 rating  \n",
       "3497   United States   7/10 rating  \n",
       "3498  United Kingdom   1/10 rating  \n",
       "3499  United Kingdom   7/10 rating  \n",
       "\n",
       "[3500 rows x 4 columns]"
      ]
     },
     "execution_count": 15,
     "metadata": {},
     "output_type": "execute_result"
    }
   ],
   "source": [
    "df"
   ]
  }
 ],
 "metadata": {
  "kernelspec": {
   "display_name": "Python 3 (ipykernel)",
   "language": "python",
   "name": "python3"
  },
  "language_info": {
   "codemirror_mode": {
    "name": "ipython",
    "version": 3
   },
   "file_extension": ".py",
   "mimetype": "text/x-python",
   "name": "python",
   "nbconvert_exporter": "python",
   "pygments_lexer": "ipython3",
   "version": "3.13.3"
  },
  "vscode": {
   "interpreter": {
    "hash": "4f7924c4c56b083e0e50eadfe7ef592a7a8ef70df33a0047f82280e6be1afe15"
   }
  }
 },
 "nbformat": 4,
 "nbformat_minor": 4
}
